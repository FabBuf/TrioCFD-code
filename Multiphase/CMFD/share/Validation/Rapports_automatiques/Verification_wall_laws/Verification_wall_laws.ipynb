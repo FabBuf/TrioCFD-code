{
 "cells": [
  {
   "cell_type": "markdown",
   "id": "inappropriate-lingerie",
   "metadata": {},
   "source": [
    "# Vérification du codage des lois de paroi turbulentes CMFD"
   ]
  },
  {
   "cell_type": "code",
   "execution_count": 1,
   "id": "f08aed89",
   "metadata": {},
   "outputs": [
    {
     "data": {
      "text/markdown": [
       "## Introduction \n",
       " Validation made by : C. Reiss\n"
      ],
      "text/plain": [
       "<IPython.core.display.Markdown object>"
      ]
     },
     "metadata": {},
     "output_type": "display_data"
    },
    {
     "data": {
      "text/markdown": [
       "\n",
       " Report created : 16/03/2022\n"
      ],
      "text/plain": [
       "<IPython.core.display.Markdown object>"
      ]
     },
     "metadata": {},
     "output_type": "display_data"
    },
    {
     "data": {
      "text/markdown": [
       "\n",
       " Report generated 20/03/2023"
      ],
      "text/plain": [
       "<IPython.core.display.Markdown object>"
      ]
     },
     "metadata": {},
     "output_type": "display_data"
    },
    {
     "data": {
      "text/markdown": [
       "### TRUST parameters \n",
       " * Version TRUST: 1.9.2_beta\n",
       " * Binary used: /volatile/catB/cr268029/triocfd/Multiphase/CMFD/CMFD_opt (built in directory /volatile/catB/cr268029/triocfd/Multiphase/CMFD/share/Validation/Rapports_automatiques/Verification_wall_laws/build)"
      ],
      "text/plain": [
       "<IPython.core.display.Markdown object>"
      ]
     },
     "metadata": {},
     "output_type": "display_data"
    }
   ],
   "source": [
    "from trustutils import run \n",
    "from trustutils.jupyter import plot\n",
    "import numpy as np\n",
    "import matplotlib.pyplot as plt\n",
    "\n",
    "import matplotlib\n",
    "matplotlib.rcParams['text.usetex'] = False\n",
    "import copy\n",
    "import os, sys\n",
    "from string import Template\n",
    "import time\n",
    "from IPython.display import display\n",
    "import math\n",
    "\n",
    "run.introduction(\"C. Reiss\",\"16/03/2022\")\n",
    "\n",
    "run.TRUST_parameters()"
   ]
  },
  {
   "cell_type": "markdown",
   "id": "fc2da45f",
   "metadata": {},
   "source": [
    "## Description\n",
    "### Validation des lois de paroi implementees dans trioCMFD\n",
    "\n",
    "On fait un pas de temps sur un canal long dans la direction de $y$. La condition initiale de vitesse est $v_x=0$, $v_y=1$, $v_z=0$. Par consequent, a une même distance du bord, on a une variation de $y_+$ car on a une variation de $u_{\\parallel}$. On calcule analytiquement $u_\\tau$, $k_+$, $\\tau_+$, $\\omega_+$ et $\\theta_+$ en fonction de $y_+$. On prend une sonde de la valeur des operateurs de diffusion le long du canal. On verifie que les valeurs de $k_+$, $\\theta_+$, $\\tau_+$, $\\omega_+$ et le taux de cisaillement calculees par triocfd et injectees par les lois de paroi dans les operateurs de diffusion de la vitesse, de la temperature et des quantites turbulentes correspondent aux valeurs analytiques."
   ]
  },
  {
   "cell_type": "code",
   "execution_count": 14,
   "id": "dd5c096f",
   "metadata": {},
   "outputs": [],
   "source": [
    "configs = [\"PolyMAC_tau_fixe_k_fixe\",\"PolyMAC_omega_dix_k_simple\", \"PolyMAC_omega_demi_k_complique\"]\n",
    "equation = [\"echelle_temporelle_turbulente\"]+[\"taux_dissipation_turbulent\"]*2\n",
    "diffusion = [ \"k_tau\"]+[\"k_omega\"]*2\n",
    "diss =         [\"tau\"]+['omega']*2\n",
    "diss_ext = [\"tau_ext\"]+[\"omega_ext\"]*2\n",
    "IC_diss  = [\"0.7\"]+[str(1/0.7)]*2\n",
    "CL_diss = [\"scalaire_impose_paroi champ_front_uniforme 1 0 \", \"Cond_lim_omega_dix { } \", \"Cond_lim_omega_demi { }  \"]\n",
    "CL_k = [\"scalaire_impose_paroi champ_front_uniforme 1 0 \", \"Cond_lim_k_simple_flux_nul \", \"Cond_lim_k_complique_transition_flux_nul_demi  \"]\n",
    "polyedriser = [\"Polyedriser dom\"]\n",
    "schema = [\"PolyMAC_P0\"]\n",
    "\n",
    "#Create the calculation cases\n",
    "\n",
    "force_recalculation = True\n",
    "\n",
    "def GenerateInputFile(name,substitutions_dict):\n",
    "    with open(f\"build/jdd.data\", \"r\") as file: \n",
    "        filedata = Template(file.read())\n",
    "    result = filedata.substitute(substitutions_dict)\n",
    "    with open(f\"build/{name}.data\", \"w\") as file:\n",
    "        file.write(result)\n",
    "\n",
    "if force_recalculation or not os.path.exists('build'):\n",
    "    print('Recalculation running..')\n",
    "    run.reset()\n",
    "    run.defaultSuite_ = run.TRUSTSuite(runPrepare=False)\n",
    "\n",
    "    for c in range(len(configs)) :\n",
    "        print(f\"Adding the launch files for {configs[c]}\")\n",
    "        folder_run = f\"{configs[c]}\"\n",
    "        os.system(f'mkdir build/{folder_run}')\n",
    "            \n",
    "        name_run = f\"{folder_run}\"\n",
    "\n",
    "        substitutions_dict = {\"diffusion\" : diffusion[c] ,\n",
    "                              \"diss\": diss[c],\n",
    "                              \"diss_ext\": diss_ext[c],                                  \n",
    "                              \"IC_diss\" : IC_diss[c] ,\n",
    "                              \"CL_diss\" : CL_diss[c] ,\n",
    "                              \"CL_k\" : CL_k[c] ,\n",
    "                              \"equation\" : equation[c],\n",
    "                              \"polyedriser\" : polyedriser[0] ,\n",
    "                              \"schema\" : schema[0]\n",
    "                             }\n",
    "        GenerateInputFile(name_run,substitutions_dict)\n",
    "\n",
    "        os.system(f'mv build/{name_run}.data build/{folder_run}')\n",
    "        run.addCase(f\"./{folder_run}\", f\"{name_run}.data\")\n",
    "    \n",
    "    run.runCases()\n",
    "    display(run.tablePerf())\n"
   ]
  },
  {
   "cell_type": "markdown",
   "id": "9547e0d9",
   "metadata": {},
   "source": [
    "## Raw extracts from TrioCFD calculation"
   ]
  },
  {
   "cell_type": "code",
   "execution_count": 3,
   "id": "a60f8c2b",
   "metadata": {},
   "outputs": [],
   "source": [
    "# Relevant quantities\n",
    "\n",
    "mu = 2.3\n",
    "rho = 3.4\n",
    "lambd = 4.8\n",
    "Cp = 2.7\n",
    "nu = mu/rho\n",
    "B_w = 0.075\n",
    "B_k = 0.09\n",
    "\n",
    "k_init = 3.1\n",
    "tau_init = 0.7\n",
    "omega_init = 1/0.7\n",
    "\n",
    "nuT = lambd/(rho*Cp) + 0.67*k_init*tau_init\n",
    "nuk=nu + 0.67*k_init*tau_init\n",
    "nudiss = nu + 0.5*k_init*tau_init\n",
    "\n",
    "deltaT = 4.8\n",
    "\n",
    "z = 0.5\n",
    "Pr = mu*Cp/lambd\n",
    "\n",
    "surface_face = 1\n",
    "volume_elem = 1\n"
   ]
  },
  {
   "cell_type": "code",
   "execution_count": 4,
   "id": "31353422",
   "metadata": {},
   "outputs": [],
   "source": [
    "von_karman_ = 0.41\n",
    "limiteur_y_p = 0.01\n",
    "\n",
    "def calc_u_tau_loc(y, u_par, nu):\n",
    "    eps = 1.e-3\n",
    "    iter_max = 20\n",
    "    n_iter = 0\n",
    "\n",
    "    u_tau_1 = 1.\n",
    "    while to_zero(y, u_tau_1, u_par, nu) < 0 :\n",
    "        u_tau_1 *= 10\n",
    "    u_tau_0 = 0.1\n",
    "    while to_zero(y,  u_tau_0, u_par, nu) > 0 :\n",
    "        u_tau_0 /= 10\n",
    "    if u_tau_1 == 1 :\n",
    "        u_tau_1 = u_tau_0*10\n",
    "    elif u_tau_0 == 0.1 :\n",
    "        u_tau_0 = u_tau_1/10\n",
    "    \n",
    "    eps = u_tau_0 * eps\n",
    "\n",
    "    while (abs(u_tau_1-u_tau_0)>eps) and (n_iter <= iter_max):\n",
    "        f_0 = to_zero(y, (u_tau_0+u_tau_1)/2, u_par, nu)\n",
    "        if f_0 > 0 :\n",
    "            u_tau_1 -= (u_tau_1-u_tau_0)/2\n",
    "        else :\n",
    "            u_tau_0 += (u_tau_1-u_tau_0)/2\n",
    "        n_iter+=1\n",
    "\n",
    "    return u_tau_0\n",
    "\n",
    "def to_zero(y, u_tau,u_par, nu) :\n",
    "    y_p = y*u_tau/nu\n",
    "    return u_plus_de_y_plus(y_p) - u_par/u_tau\n",
    "\n",
    "def u_plus_de_y_plus( y_p) :\n",
    "    reichardt = np.log(1+0.4*y_p)/von_karman_\n",
    "    reichardt += 7.8\n",
    "    reichardt += -7.8*np.exp(-y_p/11)\n",
    "    reichardt += -7.8*y_p/11*np.exp(-y_p/3)\n",
    "\n",
    "    log_law = np.log(y_p)/von_karman_ + 5.1\n",
    "\n",
    "    blending = np.tanh( y_p/27*y_p/27*y_p/27*y_p/27)\n",
    "\n",
    "    return (1-blending)*reichardt + blending*log_law\n",
    "\n",
    "def theta_plus_de_y_plus(y_p) :\n",
    "    Gamma = 0.01*(Pr*y_p)**4/(1+5*Pr**3*y_p)\n",
    "    B = (3.85*Pr**(1/3)-1.3)**2+2.12*np.log(Pr)\n",
    "    return Pr*y_p*np.exp(-Gamma) + (2.12*np.log(1+y_p)+B)*np.exp(-1/Gamma)\n",
    "\n",
    "def omega_plus_de_y_plus(y_p) :\n",
    "    arg = y_p/10\n",
    "    phi = np.tanh(arg**4)\n",
    "    w_vis_p = 6/(B_w*y_p**2)\n",
    "    w_log_p = 1/(B_k**0.5*von_karman_*y_p)\n",
    "    w_1_p = w_vis_p+w_log_p\n",
    "    w_2_p = (w_vis_p**1.2+w_log_p**1.2)**(1/1.2)\n",
    "    return phi * w_1_p + (1-phi)*w_2_p\n",
    "\n",
    "def k_plus_de_y_plus(y_p) :\n",
    "    f1 = (y_p-1) *(y_p-1)*(y_p-1)/30\n",
    "    f2 = 1/np.sqrt(B_k)-.08* abs(4.6 - np.log(y_p))**3\n",
    "    b1 = np.tanh((y_p/4.)**10)\n",
    "    b2 = np.tanh((y_p/2500.)**1.4)\n",
    "    f3 = 1/np.sqrt(B_k)*.25\n",
    "    return np.maximum((1-b1)*f1 + b1*f2, 0)*(1-b2)+b2*f3\n"
   ]
  },
  {
   "cell_type": "code",
   "execution_count": 9,
   "id": "1d378543",
   "metadata": {},
   "outputs": [],
   "source": [
    "\n",
    "absc = np.linspace(0.5,1999.5, 2000)\n",
    "ut = np.array([calc_u_tau_loc(z, v, nu) for v in absc])\n",
    "yp = np.array([utl * z/nu for utl in ut])\n",
    "up = np.array([u_plus_de_y_plus(ypl) for ypl in yp])\n",
    "Tp = np.array([theta_plus_de_y_plus(ypl) for ypl in yp])\n",
    "\n",
    "frott_th = -ut*ut*rho\n",
    "qth = rho*Cp*ut*(5.8-1)/Tp\n",
    "\n",
    "k_th =  [(0-k_init) * nuk / z * yp/yp]\n",
    "k_th += [(0-k_init) * nuk / z * (1-np.tanh( yp**2/100 ) )]\n",
    "k_th += [ (ut*ut*k_plus_de_y_plus(yp/2)-k_init)*2.*nuk/z * ( 1 - np.tanh(( yp/50.)**3)) ]\n",
    "\n",
    "diss_th = []\n",
    "diss_th += [ -tau_init * nudiss / z * yp/yp]\n",
    "diss_th += [ (10*nu*6/(B_w*z**2) - omega_init) * nudiss / z * yp/yp]\n",
    "diss_th += [ (2*ut*ut/nu*omega_plus_de_y_plus(yp/2)-ut*ut/nu*omega_plus_de_y_plus(yp) - omega_init) * nudiss / z ]\n"
   ]
  },
  {
   "cell_type": "code",
   "execution_count": 15,
   "id": "a8cd35ec",
   "metadata": {},
   "outputs": [
    {
     "ename": "OSError",
     "evalue": "PolyMAC_tau_fixe_k_fixe/PolyMAC_tau_fixe_k_fixe_YP.son not found.",
     "output_type": "error",
     "traceback": [
      "\u001b[0;31m---------------------------------------------------------------------------\u001b[0m",
      "\u001b[0;31mOSError\u001b[0m                                   Traceback (most recent call last)",
      "\u001b[0;32m/volatile/catB/cr268029/trust/Validation/Outils/trustutils/jupyter/plot.py\u001b[0m in \u001b[0;36mloadText\u001b[0;34m(data, index_column, nb_column, transpose, dtype, skiprows)\u001b[0m\n\u001b[1;32m     87\u001b[0m         \u001b[0;32mif\u001b[0m \u001b[0mtranspose\u001b[0m\u001b[0;34m:\u001b[0m\u001b[0;34m\u001b[0m\u001b[0;34m\u001b[0m\u001b[0m\n\u001b[0;32m---> 88\u001b[0;31m             \u001b[0mmatrix\u001b[0m \u001b[0;34m=\u001b[0m \u001b[0mnp\u001b[0m\u001b[0;34m.\u001b[0m\u001b[0mloadtxt\u001b[0m\u001b[0;34m(\u001b[0m\u001b[0mdata\u001b[0m\u001b[0;34m,\u001b[0m \u001b[0mdtype\u001b[0m\u001b[0;34m=\u001b[0m\u001b[0mdtype\u001b[0m\u001b[0;34m,\u001b[0m \u001b[0mskiprows\u001b[0m\u001b[0;34m=\u001b[0m\u001b[0mskiprows\u001b[0m\u001b[0;34m)\u001b[0m\u001b[0;34m.\u001b[0m\u001b[0mT\u001b[0m\u001b[0;34m[\u001b[0m\u001b[0mindex_column\u001b[0m\u001b[0;34m:\u001b[0m\u001b[0mnb\u001b[0m\u001b[0;34m]\u001b[0m\u001b[0;34m\u001b[0m\u001b[0;34m\u001b[0m\u001b[0m\n\u001b[0m\u001b[1;32m     89\u001b[0m         \u001b[0;32melse\u001b[0m\u001b[0;34m:\u001b[0m\u001b[0;34m\u001b[0m\u001b[0;34m\u001b[0m\u001b[0m\n",
      "\u001b[0;32m/volatile/catB/cr268029/trust/exec/python/lib/python3.7/site-packages/numpy/lib/npyio.py\u001b[0m in \u001b[0;36mloadtxt\u001b[0;34m(fname, dtype, comments, delimiter, converters, skiprows, usecols, unpack, ndmin, encoding, max_rows, like)\u001b[0m\n\u001b[1;32m   1064\u001b[0m         \u001b[0;32mif\u001b[0m \u001b[0m_is_string_like\u001b[0m\u001b[0;34m(\u001b[0m\u001b[0mfname\u001b[0m\u001b[0;34m)\u001b[0m\u001b[0;34m:\u001b[0m\u001b[0;34m\u001b[0m\u001b[0;34m\u001b[0m\u001b[0m\n\u001b[0;32m-> 1065\u001b[0;31m             \u001b[0mfh\u001b[0m \u001b[0;34m=\u001b[0m \u001b[0mnp\u001b[0m\u001b[0;34m.\u001b[0m\u001b[0mlib\u001b[0m\u001b[0;34m.\u001b[0m\u001b[0m_datasource\u001b[0m\u001b[0;34m.\u001b[0m\u001b[0mopen\u001b[0m\u001b[0;34m(\u001b[0m\u001b[0mfname\u001b[0m\u001b[0;34m,\u001b[0m \u001b[0;34m'rt'\u001b[0m\u001b[0;34m,\u001b[0m \u001b[0mencoding\u001b[0m\u001b[0;34m=\u001b[0m\u001b[0mencoding\u001b[0m\u001b[0;34m)\u001b[0m\u001b[0;34m\u001b[0m\u001b[0;34m\u001b[0m\u001b[0m\n\u001b[0m\u001b[1;32m   1066\u001b[0m             \u001b[0mfencoding\u001b[0m \u001b[0;34m=\u001b[0m \u001b[0mgetattr\u001b[0m\u001b[0;34m(\u001b[0m\u001b[0mfh\u001b[0m\u001b[0;34m,\u001b[0m \u001b[0;34m'encoding'\u001b[0m\u001b[0;34m,\u001b[0m \u001b[0;34m'latin1'\u001b[0m\u001b[0;34m)\u001b[0m\u001b[0;34m\u001b[0m\u001b[0;34m\u001b[0m\u001b[0m\n",
      "\u001b[0;32m/volatile/catB/cr268029/trust/exec/python/lib/python3.7/site-packages/numpy/lib/_datasource.py\u001b[0m in \u001b[0;36mopen\u001b[0;34m(path, mode, destpath, encoding, newline)\u001b[0m\n\u001b[1;32m    193\u001b[0m     \u001b[0mds\u001b[0m \u001b[0;34m=\u001b[0m \u001b[0mDataSource\u001b[0m\u001b[0;34m(\u001b[0m\u001b[0mdestpath\u001b[0m\u001b[0;34m)\u001b[0m\u001b[0;34m\u001b[0m\u001b[0;34m\u001b[0m\u001b[0m\n\u001b[0;32m--> 194\u001b[0;31m     \u001b[0;32mreturn\u001b[0m \u001b[0mds\u001b[0m\u001b[0;34m.\u001b[0m\u001b[0mopen\u001b[0m\u001b[0;34m(\u001b[0m\u001b[0mpath\u001b[0m\u001b[0;34m,\u001b[0m \u001b[0mmode\u001b[0m\u001b[0;34m,\u001b[0m \u001b[0mencoding\u001b[0m\u001b[0;34m=\u001b[0m\u001b[0mencoding\u001b[0m\u001b[0;34m,\u001b[0m \u001b[0mnewline\u001b[0m\u001b[0;34m=\u001b[0m\u001b[0mnewline\u001b[0m\u001b[0;34m)\u001b[0m\u001b[0;34m\u001b[0m\u001b[0;34m\u001b[0m\u001b[0m\n\u001b[0m\u001b[1;32m    195\u001b[0m \u001b[0;34m\u001b[0m\u001b[0m\n",
      "\u001b[0;32m/volatile/catB/cr268029/trust/exec/python/lib/python3.7/site-packages/numpy/lib/_datasource.py\u001b[0m in \u001b[0;36mopen\u001b[0;34m(self, path, mode, encoding, newline)\u001b[0m\n\u001b[1;32m    530\u001b[0m         \u001b[0;32melse\u001b[0m\u001b[0;34m:\u001b[0m\u001b[0;34m\u001b[0m\u001b[0;34m\u001b[0m\u001b[0m\n\u001b[0;32m--> 531\u001b[0;31m             \u001b[0;32mraise\u001b[0m \u001b[0mIOError\u001b[0m\u001b[0;34m(\u001b[0m\u001b[0;34m\"%s not found.\"\u001b[0m \u001b[0;34m%\u001b[0m \u001b[0mpath\u001b[0m\u001b[0;34m)\u001b[0m\u001b[0;34m\u001b[0m\u001b[0;34m\u001b[0m\u001b[0m\n\u001b[0m\u001b[1;32m    532\u001b[0m \u001b[0;34m\u001b[0m\u001b[0m\n",
      "\u001b[0;31mOSError\u001b[0m: PolyMAC_tau_fixe_k_fixe/PolyMAC_tau_fixe_k_fixe_YP.son not found.",
      "\nDuring handling of the above exception, another exception occurred:\n",
      "\u001b[0;31mOSError\u001b[0m                                   Traceback (most recent call last)",
      "\u001b[0;32m/tmp/ipykernel_1028998/1922868209.py\u001b[0m in \u001b[0;36m<module>\u001b[0;34m\u001b[0m\n\u001b[1;32m      5\u001b[0m     \u001b[0mfolder_run\u001b[0m \u001b[0;34m=\u001b[0m \u001b[0mconfigs\u001b[0m\u001b[0;34m[\u001b[0m\u001b[0mc\u001b[0m\u001b[0;34m]\u001b[0m\u001b[0;34m\u001b[0m\u001b[0;34m\u001b[0m\u001b[0m\n\u001b[1;32m      6\u001b[0m \u001b[0;34m\u001b[0m\u001b[0m\n\u001b[0;32m----> 7\u001b[0;31m     \u001b[0myptr\u001b[0m \u001b[0;34m=\u001b[0m \u001b[0mnp\u001b[0m\u001b[0;34m.\u001b[0m\u001b[0marray\u001b[0m\u001b[0;34m(\u001b[0m\u001b[0mplot\u001b[0m\u001b[0;34m.\u001b[0m\u001b[0mloadText\u001b[0m\u001b[0;34m(\u001b[0m\u001b[0;34mf\"{folder_run}/{folder_run}_YP.son\"\u001b[0m\u001b[0;34m)\u001b[0m\u001b[0;34m[\u001b[0m\u001b[0;36m1\u001b[0m\u001b[0;34m:\u001b[0m\u001b[0;34m:\u001b[0m\u001b[0;34m,\u001b[0m\u001b[0;34m-\u001b[0m\u001b[0;36m1\u001b[0m\u001b[0;34m]\u001b[0m\u001b[0;34m)\u001b[0m\u001b[0;34m\u001b[0m\u001b[0;34m\u001b[0m\u001b[0m\n\u001b[0m\u001b[1;32m      8\u001b[0m     \u001b[0mvx\u001b[0m \u001b[0;34m=\u001b[0m \u001b[0mnp\u001b[0m\u001b[0;34m.\u001b[0m\u001b[0marray\u001b[0m\u001b[0;34m(\u001b[0m\u001b[0mplot\u001b[0m\u001b[0;34m.\u001b[0m\u001b[0mloadText\u001b[0m\u001b[0;34m(\u001b[0m\u001b[0;34mf\"{folder_run}/{folder_run}_VITESSEY.son\"\u001b[0m\u001b[0;34m)\u001b[0m\u001b[0;34m[\u001b[0m\u001b[0;36m1\u001b[0m\u001b[0;34m:\u001b[0m\u001b[0;34m:\u001b[0m\u001b[0;34m,\u001b[0m\u001b[0;36m0\u001b[0m\u001b[0;34m]\u001b[0m\u001b[0;34m)\u001b[0m\u001b[0;34m\u001b[0m\u001b[0;34m\u001b[0m\u001b[0m\n\u001b[1;32m      9\u001b[0m     \u001b[0mdiffvitx\u001b[0m \u001b[0;34m=\u001b[0m \u001b[0mnp\u001b[0m\u001b[0;34m.\u001b[0m\u001b[0marray\u001b[0m\u001b[0;34m(\u001b[0m\u001b[0mplot\u001b[0m\u001b[0;34m.\u001b[0m\u001b[0mloadText\u001b[0m\u001b[0;34m(\u001b[0m\u001b[0;34mf\"{folder_run}/{folder_run}_DIFF_VIT.son\"\u001b[0m\u001b[0;34m)\u001b[0m\u001b[0;34m[\u001b[0m\u001b[0;36m2\u001b[0m\u001b[0;34m:\u001b[0m\u001b[0;34m:\u001b[0m\u001b[0;36m3\u001b[0m\u001b[0;34m,\u001b[0m\u001b[0;36m1\u001b[0m\u001b[0;34m]\u001b[0m\u001b[0;34m)\u001b[0m\u001b[0;34m\u001b[0m\u001b[0;34m\u001b[0m\u001b[0m\n",
      "\u001b[0;32m/volatile/catB/cr268029/trust/Validation/Outils/trustutils/jupyter/plot.py\u001b[0m in \u001b[0;36mloadText\u001b[0;34m(data, index_column, nb_column, transpose, dtype, skiprows)\u001b[0m\n\u001b[1;32m     90\u001b[0m             \u001b[0mmatrix\u001b[0m \u001b[0;34m=\u001b[0m \u001b[0mnp\u001b[0m\u001b[0;34m.\u001b[0m\u001b[0mloadtxt\u001b[0m\u001b[0;34m(\u001b[0m\u001b[0mdata\u001b[0m\u001b[0;34m,\u001b[0m \u001b[0mdtype\u001b[0m\u001b[0;34m=\u001b[0m\u001b[0mdtype\u001b[0m\u001b[0;34m,\u001b[0m \u001b[0mskiprows\u001b[0m\u001b[0;34m=\u001b[0m\u001b[0mskiprows\u001b[0m\u001b[0;34m)\u001b[0m\u001b[0;34m[\u001b[0m\u001b[0mindex_column\u001b[0m\u001b[0;34m:\u001b[0m\u001b[0mnb\u001b[0m\u001b[0;34m]\u001b[0m\u001b[0;34m\u001b[0m\u001b[0;34m\u001b[0m\u001b[0m\n\u001b[1;32m     91\u001b[0m     \u001b[0;32mexcept\u001b[0m\u001b[0;34m:\u001b[0m\u001b[0;34m\u001b[0m\u001b[0;34m\u001b[0m\u001b[0m\n\u001b[0;32m---> 92\u001b[0;31m         \u001b[0mmatrix\u001b[0m \u001b[0;34m=\u001b[0m \u001b[0mnp\u001b[0m\u001b[0;34m.\u001b[0m\u001b[0mloadtxt\u001b[0m\u001b[0;34m(\u001b[0m\u001b[0mdata\u001b[0m\u001b[0;34m,\u001b[0m \u001b[0mdtype\u001b[0m\u001b[0;34m=\u001b[0m\u001b[0mdtype\u001b[0m\u001b[0;34m,\u001b[0m \u001b[0mskiprows\u001b[0m\u001b[0;34m=\u001b[0m\u001b[0mskiprows\u001b[0m\u001b[0;34m)\u001b[0m\u001b[0;34m\u001b[0m\u001b[0;34m\u001b[0m\u001b[0m\n\u001b[0m\u001b[1;32m     93\u001b[0m \u001b[0;34m\u001b[0m\u001b[0m\n\u001b[1;32m     94\u001b[0m     \u001b[0msaveFileAccumulator\u001b[0m\u001b[0;34m(\u001b[0m\u001b[0mdata\u001b[0m\u001b[0;34m)\u001b[0m\u001b[0;34m\u001b[0m\u001b[0;34m\u001b[0m\u001b[0m\n",
      "\u001b[0;32m/volatile/catB/cr268029/trust/exec/python/lib/python3.7/site-packages/numpy/lib/npyio.py\u001b[0m in \u001b[0;36mloadtxt\u001b[0;34m(fname, dtype, comments, delimiter, converters, skiprows, usecols, unpack, ndmin, encoding, max_rows, like)\u001b[0m\n\u001b[1;32m   1063\u001b[0m             \u001b[0mfname\u001b[0m \u001b[0;34m=\u001b[0m \u001b[0mos_fspath\u001b[0m\u001b[0;34m(\u001b[0m\u001b[0mfname\u001b[0m\u001b[0;34m)\u001b[0m\u001b[0;34m\u001b[0m\u001b[0;34m\u001b[0m\u001b[0m\n\u001b[1;32m   1064\u001b[0m         \u001b[0;32mif\u001b[0m \u001b[0m_is_string_like\u001b[0m\u001b[0;34m(\u001b[0m\u001b[0mfname\u001b[0m\u001b[0;34m)\u001b[0m\u001b[0;34m:\u001b[0m\u001b[0;34m\u001b[0m\u001b[0;34m\u001b[0m\u001b[0m\n\u001b[0;32m-> 1065\u001b[0;31m             \u001b[0mfh\u001b[0m \u001b[0;34m=\u001b[0m \u001b[0mnp\u001b[0m\u001b[0;34m.\u001b[0m\u001b[0mlib\u001b[0m\u001b[0;34m.\u001b[0m\u001b[0m_datasource\u001b[0m\u001b[0;34m.\u001b[0m\u001b[0mopen\u001b[0m\u001b[0;34m(\u001b[0m\u001b[0mfname\u001b[0m\u001b[0;34m,\u001b[0m \u001b[0;34m'rt'\u001b[0m\u001b[0;34m,\u001b[0m \u001b[0mencoding\u001b[0m\u001b[0;34m=\u001b[0m\u001b[0mencoding\u001b[0m\u001b[0;34m)\u001b[0m\u001b[0;34m\u001b[0m\u001b[0;34m\u001b[0m\u001b[0m\n\u001b[0m\u001b[1;32m   1066\u001b[0m             \u001b[0mfencoding\u001b[0m \u001b[0;34m=\u001b[0m \u001b[0mgetattr\u001b[0m\u001b[0;34m(\u001b[0m\u001b[0mfh\u001b[0m\u001b[0;34m,\u001b[0m \u001b[0;34m'encoding'\u001b[0m\u001b[0;34m,\u001b[0m \u001b[0;34m'latin1'\u001b[0m\u001b[0;34m)\u001b[0m\u001b[0;34m\u001b[0m\u001b[0;34m\u001b[0m\u001b[0m\n\u001b[1;32m   1067\u001b[0m             \u001b[0mfh\u001b[0m \u001b[0;34m=\u001b[0m \u001b[0miter\u001b[0m\u001b[0;34m(\u001b[0m\u001b[0mfh\u001b[0m\u001b[0;34m)\u001b[0m\u001b[0;34m\u001b[0m\u001b[0;34m\u001b[0m\u001b[0m\n",
      "\u001b[0;32m/volatile/catB/cr268029/trust/exec/python/lib/python3.7/site-packages/numpy/lib/_datasource.py\u001b[0m in \u001b[0;36mopen\u001b[0;34m(path, mode, destpath, encoding, newline)\u001b[0m\n\u001b[1;32m    192\u001b[0m \u001b[0;34m\u001b[0m\u001b[0m\n\u001b[1;32m    193\u001b[0m     \u001b[0mds\u001b[0m \u001b[0;34m=\u001b[0m \u001b[0mDataSource\u001b[0m\u001b[0;34m(\u001b[0m\u001b[0mdestpath\u001b[0m\u001b[0;34m)\u001b[0m\u001b[0;34m\u001b[0m\u001b[0;34m\u001b[0m\u001b[0m\n\u001b[0;32m--> 194\u001b[0;31m     \u001b[0;32mreturn\u001b[0m \u001b[0mds\u001b[0m\u001b[0;34m.\u001b[0m\u001b[0mopen\u001b[0m\u001b[0;34m(\u001b[0m\u001b[0mpath\u001b[0m\u001b[0;34m,\u001b[0m \u001b[0mmode\u001b[0m\u001b[0;34m,\u001b[0m \u001b[0mencoding\u001b[0m\u001b[0;34m=\u001b[0m\u001b[0mencoding\u001b[0m\u001b[0;34m,\u001b[0m \u001b[0mnewline\u001b[0m\u001b[0;34m=\u001b[0m\u001b[0mnewline\u001b[0m\u001b[0;34m)\u001b[0m\u001b[0;34m\u001b[0m\u001b[0;34m\u001b[0m\u001b[0m\n\u001b[0m\u001b[1;32m    195\u001b[0m \u001b[0;34m\u001b[0m\u001b[0m\n\u001b[1;32m    196\u001b[0m \u001b[0;34m\u001b[0m\u001b[0m\n",
      "\u001b[0;32m/volatile/catB/cr268029/trust/exec/python/lib/python3.7/site-packages/numpy/lib/_datasource.py\u001b[0m in \u001b[0;36mopen\u001b[0;34m(self, path, mode, encoding, newline)\u001b[0m\n\u001b[1;32m    529\u001b[0m                                       encoding=encoding, newline=newline)\n\u001b[1;32m    530\u001b[0m         \u001b[0;32melse\u001b[0m\u001b[0;34m:\u001b[0m\u001b[0;34m\u001b[0m\u001b[0;34m\u001b[0m\u001b[0m\n\u001b[0;32m--> 531\u001b[0;31m             \u001b[0;32mraise\u001b[0m \u001b[0mIOError\u001b[0m\u001b[0;34m(\u001b[0m\u001b[0;34m\"%s not found.\"\u001b[0m \u001b[0;34m%\u001b[0m \u001b[0mpath\u001b[0m\u001b[0;34m)\u001b[0m\u001b[0;34m\u001b[0m\u001b[0;34m\u001b[0m\u001b[0m\n\u001b[0m\u001b[1;32m    532\u001b[0m \u001b[0;34m\u001b[0m\u001b[0m\n\u001b[1;32m    533\u001b[0m \u001b[0;34m\u001b[0m\u001b[0m\n",
      "\u001b[0;31mOSError\u001b[0m: PolyMAC_tau_fixe_k_fixe/PolyMAC_tau_fixe_k_fixe_YP.son not found."
     ]
    },
    {
     "data": {
      "image/png": "[encoded data removed]",
      "text/plain": [
       "<Figure size 1296x1080 with 30 Axes>"
      ]
     },
     "metadata": {
      "needs_background": "light"
     },
     "output_type": "display_data"
    }
   ],
   "source": [
    "\n",
    "fig = plt.figure(figsize = (18, 15))\n",
    "axs = fig.subplots(5, 6)\n",
    "\n",
    "for c in range(len(configs)) :\n",
    "    folder_run = configs[c]\n",
    "\n",
    "    yptr = np.array(plot.loadText(f\"{folder_run}/{folder_run}_YP.son\")[1::,-1])\n",
    "    vx = np.array(plot.loadText(f\"{folder_run}/{folder_run}_VITESSEY.son\")[1::,0])\n",
    "    diffvitx = np.array(plot.loadText(f\"{folder_run}/{folder_run}_DIFF_VIT.son\")[2::3,1])\n",
    "    diffk = np.array(plot.loadText(f\"{folder_run}/{folder_run}_DIFF_K.son\")[1::,-1])\n",
    "    diffdiss=np.array(plot.loadText(f\"{folder_run}/{folder_run}_DIFF_DISS.son\")[1::,-1])\n",
    "    diffT = np.array(plot.loadText(f\"{folder_run}/{folder_run}_DIFF_T.son\")[1::,-1])\n",
    "\n",
    "    axs[0,  c].plot(absc, yptr, \"b-\", label = \"TRUST\")\n",
    "    axs[0,  c].plot(absc, yp, \"k--\", label = \"Theory\")\n",
    "    axs[1,  c].plot(yp, diffvitx*rho, \"b-\", label = \"TRUST\")\n",
    "    axs[1,  c].plot(yp, frott_th, \"k--\", label = \"Theory\")\n",
    "    axs[2,  c].plot(yp, diffk*rho, \"b-\", label = \"TRUST\")\n",
    "    axs[2,  c].plot(yp, k_th[c]*rho, \"k--\", label = \"Theory\")\n",
    "    axs[3,  c].plot(yp, diffdiss, \"b-\", label = \"TRUST\")\n",
    "    axs[3,  c].plot(yp, diss_th[c], \"k--\", label = \"Theory\")\n",
    "    axs[4,  c].plot(yp, diffT*rho*Cp, \"b-\", label = \"TRUST\")\n",
    "    axs[4,  c].plot(yp, qth, \"k--\", label = \"Theory\")\n",
    "\n",
    "    axs[0,  c].set_ylabel(\"y+\")\n",
    "    axs[1,  c].set_ylabel(\"Velocity flux\")\n",
    "    axs[2,  c].set_ylabel(\"k flux\")\n",
    "    axs[3,  c].set_ylabel(f\"{diss[c]} flux\")\n",
    "    axs[4,  c].set_ylabel(\"Heat flux (W/m2)\")\n",
    "\n",
    "    axs[0,  c].set_title(folder_run)\n",
    "    axs[0,  c].set_xlabel(\"Velocity\")\n",
    "\n",
    "    for i in range(1, 5):\n",
    "        axs[i,  c].set_title(folder_run)\n",
    "        axs[i,  c].set_xlabel(\"y+\")\n",
    "\n",
    "axs[2, 0].set_ylim( -45, -44.8)\n",
    "axs[3, 0].set_ylim(-2.5, -2.4)\n",
    "axs[3, 1].set_ylim(7000, 8000)\n",
    "\n",
    "plt.tight_layout()\n",
    "plt.savefig(\"Verification_wall_laws.pdf\")"
   ]
  }
 ],
 "metadata": {
  "kernelspec": {
   "display_name": "Python 3 (ipykernel)",
   "language": "python",
   "name": "python3"
  },
  "language_info": {
   "codemirror_mode": {
    "name": "ipython",
    "version": 3
   },
   "file_extension": ".py",
   "mimetype": "text/x-python",
   "name": "python",
   "nbconvert_exporter": "python",
   "pygments_lexer": "ipython3",
   "version": "3.7.9"
  }
 },
 "nbformat": 4,
 "nbformat_minor": 5
}
