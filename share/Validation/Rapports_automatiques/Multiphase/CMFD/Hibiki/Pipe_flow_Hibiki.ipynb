{
 "cells": [
  {
   "cell_type": "markdown",
   "id": "inappropriate-lingerie",
   "metadata": {},
   "source": [
    "# Tube à bulles : validation sur le cas Hibiki & Ishii"
   ]
  },
  {
   "cell_type": "code",
   "execution_count": null,
   "id": "f08aed89",
   "metadata": {},
   "outputs": [],
   "source": [
    "import numpy as np\n",
    "import matplotlib.pyplot as plt\n",
    "import pandas as pd\n",
    "import matplotlib\n",
    "matplotlib.rcParams['text.usetex'] = True\n",
    "import copy\n",
    "import os, sys\n",
    "from string import Template\n",
    "import time\n",
    "from IPython.display import display\n",
    "import math\n",
    "from functions import *\n",
    "\n",
    "from trustutils import run \n",
    "from trustutils import visit\n",
    "from trustutils.jupyter import plot\n",
    "\n",
    "run.TRUST_parameters()"
   ]
  },
  {
   "cell_type": "markdown",
   "id": "05e3052d",
   "metadata": {},
   "source": [
    "## Préparation des calculs\n",
    "A remplir par l'utilisateur"
   ]
  },
  {
   "cell_type": "code",
   "execution_count": null,
   "id": "f6831068",
   "metadata": {},
   "outputs": [],
   "source": [
    "#Create the calculation cases\n",
    "force_recalculation = True\n",
    "build = run.BUILD_DIRECTORY # build directory (absolute path !)\n",
    "number_of_partitions = 10\n",
    "\n",
    "# experimental data\n",
    "config_exp = \"Hibiki\"\n",
    "carac_essai = pd.read_csv(f\"donnees/{config_exp}.csv\")\n",
    "n_exp = len(carac_essai[\"SetNumber\"])\n",
    "\n",
    "# Numerical parameters\n",
    "facsec  = [ 1, 1] # mesh\n",
    "tmax    = 20\n",
    "nb_pas_dt_max = '100000'\n",
    "seuil_statio  = '1.e-3'\n",
    "solveur = 'ice'\n",
    "\n",
    "param_sch = [tmax, facsec, nb_pas_dt_max, seuil_statio, solveur]"
   ]
  },
  {
   "cell_type": "markdown",
   "id": "7b55f887",
   "metadata": {},
   "source": [
    "Récupérer les conditions expérimentales nécessaire au lancement des simulation"
   ]
  },
  {
   "cell_type": "code",
   "execution_count": null,
   "id": "d50385bf",
   "metadata": {},
   "outputs": [],
   "source": [
    "# Retrieve experiment data\n",
    "carac_essai[\"alpha_l0\"] = np.array(carac_essai['JF'])/(np.array(carac_essai['JF'])+np.array(carac_essai['JG']))\n",
    "carac_essai[\"alpha_g0\"] = np.array(carac_essai['JG'])/(np.array(carac_essai['JF'])+np.array(carac_essai['JG']))\n",
    "carac_essai[\"u_0\"]      = np.array(carac_essai['JF'])/np.array(carac_essai[\"alpha_l0\"])\n",
    "carac_essai[\"CL_k\"]     = 0.01*np.array(carac_essai[\"u_0\"])**2\n",
    "carac_essai[\"CL_om\"]    = np.array(carac_essai[\"u_0\"])/np.array(carac_essai[\"D_h\"])\n",
    "carac_essai[\"g\"]        = [-9.81] * len(carac_essai[\"SetNumber\"])\n",
    "carac_essai[\"fluid\"]    = [\"water-air\"] * len(carac_essai[\"SetNumber\"])\n",
    "carac_essai[\"mesh\"] = [\"Hibiki\"] * len(carac_essai[\"SetNumber\"])\n",
    "carac_essai[\"h\"] = [3.061] * len(carac_essai[\"SetNumber\"])\n",
    "# diamètre bulles\n",
    "tab_str_diam = [\"1.e-3\"]*len(carac_essai[\"SetNumber\"]) # Default single phase\n",
    "for index, row in carac_essai.iterrows():\n",
    "    expNumber = row[\"SetNumber\"]\n",
    "    path = f\"donnees/HIBIKI/Set{expNumber[1:]}/zD=53.5/exp.csv\"\n",
    "    tab_G = pd.read_csv(path, sep = ',')\n",
    "\n",
    "    r_loc = np.array(tab_G[\"r/R\"])*row['D_h']/2.\n",
    "    d_loc = np.array(tab_G[\"Dav\"]) # These are in mm\n",
    "\n",
    "    tab_str_diam[index] = str_r_loc_d_loc(r_loc, d_loc)\n",
    "\n",
    "carac_essai[\"Dbubble\"] = tab_str_diam\n",
    "print(np.array(carac_essai['JF']))"
   ]
  },
  {
   "cell_type": "markdown",
   "id": "94a3c8ea",
   "metadata": {},
   "source": [
    "Maillage"
   ]
  },
  {
   "cell_type": "code",
   "execution_count": null,
   "id": "d8bf92dc",
   "metadata": {},
   "outputs": [],
   "source": [
    "#Create the mesh\n",
    "#Permission denied to build mesh from jupyter : do this manually...\n",
    "\n",
    "force_remeshing = False # if False, existing results will be used if the build directory exists, e.g. the trust-nk calculation will be skipped to quickly show results\n",
    "\n",
    "n_raf   = 1\n",
    "\n",
    "title_raf  = [ 1, 2 ]\n",
    "title_exp  = [\"Hibiki\"] \n",
    "n_z    = [ 80, 80] # number of vertical stacks of cells\n",
    "n_x    = [ 1 ,  2] # number of cells in each quarter of space"
   ]
  },
  {
   "cell_type": "markdown",
   "id": "1d2afb78",
   "metadata": {},
   "source": [
    "## Lancement des calculs"
   ]
  },
  {
   "cell_type": "code",
   "execution_count": null,
   "id": "0128d09b",
   "metadata": {},
   "outputs": [],
   "source": [
    "# Launch calculations\n",
    "\n",
    "if force_recalculation or not os.path.exists('build'):\n",
    "    print('Recalculation running..')\n",
    "    run.reset()\n",
    "    run.defaultSuite_ = run.TRUSTSuite(runPrepare=False)\n",
    "    \n",
    "    # substituion dictionnaries\n",
    "    dict_mesh_sch = substitution_mesh_sch(n_raf, param_sch) # substitution of mesh and time scheme info\n",
    "    dict_pb = substitution_pb(carac_essai) # substitution of pb_multiphase info\n",
    "\n",
    "    \n",
    "    for r in range(n_raf) :\n",
    "        print(f\"Adding the launch files for a refinement of {title_raf[r]}\")\n",
    "        for index, row in carac_essai.iterrows():\n",
    "            name_run = f\"{config_exp}_{row['SetNumber']}_raf_{title_raf[r]}\"\n",
    "            mesh_run = f\"mesh_{row['mesh']}_{title_raf[r]}.med\"\n",
    "            os.system(f'mkdir build/{name_run}')\n",
    "            os.system(f'cp meshes/{mesh_run} build/{name_run}/{mesh_run}')\n",
    "            \n",
    "            GenerateInputFile(f\"{build}/{name_run}\", build, {**dict_mesh_sch[r], **dict_pb[index]}, \"jdd\", name_run)\n",
    "            if (number_of_partitions == 1):\n",
    "                run.addCase(f\"./{build}/{name_run}\", f\"{name_run}.data\")\n",
    "                print(f\"Adding {name_run}.data\")\n",
    "            else :\n",
    "                os.system(f'cd build/{name_run};  make_PAR.data {name_run} {number_of_partitions}; cd ../..')                            \n",
    "                run.addCase(f\"./{name_run}\", f\"PAR_{name_run}.data\",nbProcs=number_of_partitions)\n",
    "\n",
    "    run.runCases()\n",
    "    perf= run.tablePerf()\n",
    "\n",
    "else:\n",
    "    print('No recalculation, reusing old results!')"
   ]
  },
  {
   "cell_type": "markdown",
   "id": "41d925bb",
   "metadata": {},
   "source": [
    "Tableau des performance : décommenter la dernière ligne pour afficher le tableau"
   ]
  },
  {
   "cell_type": "code",
   "execution_count": null,
   "id": "5ce58e6f",
   "metadata": {},
   "outputs": [],
   "source": [
    "performance = open(build+\"/perf.csv\", \"w\")\n",
    "for r in range(n_raf): # mesh\n",
    "    for index, row in carac_essai.iterrows(): # experiments\n",
    "        folder_run = f\"/{config_exp}_{row['SetNumber']}_raf_{title_raf[r]}/\"\n",
    "        name_run = f\"PAR_{config_exp}_{row['SetNumber']}_raf_{title_raf[r]}\"\n",
    "        performance.write(read_perf(build+folder_run+name_run+\".perf\", name_run, f\"{config_exp}_{row['SetNumber']} raf_{title_raf[r]}\"))\n",
    "performance.close()\n",
    "performance = open(build+\"/perf.csv\", \"r\")\n",
    "data = pd.read_csv(performance, sep=\" \", header=None)\n",
    "df = data[data.columns[:-1]]\n",
    "df.columns = [\"Configuration\", \"mesh\", \"Host\", \"System\", \"total_CPU_time\", \"CPU time/step\", \"nb_cells\"]\n",
    "blankIndex=[''] * len(df)\n",
    "df.index=blankIndex\n",
    "display(df)"
   ]
  },
  {
   "cell_type": "markdown",
   "id": "561d6276",
   "metadata": {},
   "source": [
    "Graphique : temps de calcul"
   ]
  },
  {
   "cell_type": "code",
   "execution_count": null,
   "id": "1f42a17d",
   "metadata": {},
   "outputs": [],
   "source": [
    "# Graph temps de calcul\n",
    "grpd = df.groupby('Configuration')\n",
    "i=1\n",
    "for name, data in grpd:\n",
    "    plt.plot(data.nb_cells.values, data.total_CPU_time.values, 'o-', label = f\"Liu{i}\")\n",
    "    i += 1\n",
    "plt.legend(ncol=6,loc='center left', bbox_to_anchor=(1, 0.5), fontsize=12)\n",
    "plt.xlabel(\"number of cells\")\n",
    "plt.ylabel(\"Total CPU time [s]\") # diviser par 3600s !!!!!!!!!!!!!!!!!!!!!!!!!!!\n",
    "plt.title(\"Calculation time\")"
   ]
  },
  {
   "cell_type": "markdown",
   "id": "3fcc3b9d",
   "metadata": {},
   "source": [
    "## Post traitement\n",
    "### Evolution des résidus"
   ]
  },
  {
   "cell_type": "code",
   "execution_count": null,
   "id": "79310a73",
   "metadata": {},
   "outputs": [],
   "source": [
    "## plotting convergence\n",
    "\n",
    "matplotlib.rcParams.update({'font.size': 14})\n",
    "\n",
    "color_raf = [ \"red\", \"green\", \"blue\"]\n",
    "\n",
    "fig = plt.figure(figsize = (16, 4))\n",
    "\n",
    "name_phys = [ [\"vitl\", \"vitg\"], [\"alphal\", \"alphag\"],  [\"k\"], [\"diss\"]]\n",
    "par = \"PAR_\"\n",
    "if number_of_partitions == 1 : par = \"\"\n",
    "\n",
    "axs = fig.subplots(1, 4, sharex=True, sharey=True)\n",
    "\n",
    "for l in range(len(name_phys)): #phys\n",
    "    for n, row in carac_essai.iterrows():\n",
    "        for r in range(n_raf) :\n",
    "\n",
    "            folder_run = f\"{config_exp}_{row['SetNumber']}_raf_{title_raf[r]}\"\n",
    "            name = folder_run\n",
    "\n",
    "            label_loc = f\"{config_exp}_{row['SetNumber']}_raf_{title_raf[r]}\"\n",
    "\n",
    "            residuals = pd.read_csv(f\"{build}/{folder_run}/{par}{name}.dt_ev\", \"\\t\")\n",
    "            residuals = residuals.iloc[:,:13]\n",
    "            residuals.columns = ['time', 'dt', 'facsec', 'residu', 'dt_stab', 'vitl', 'vitg', 'alphal', 'alphag', 'Tl', 'Tg', 'diss', 'k']               \n",
    "\n",
    "            for lp in range(len(name_phys[l])) : #physique de la phase si multiphase\n",
    "                axs[l].plot(residuals[\"time\"][::], residuals[name_phys[l][lp]][::], \"-\", label = label_loc, color = color_raf[r])\n",
    "\n",
    "    axs[l].set_xlim(0,tmax)\n",
    "    axs[l].set_ylim(float(seuil_statio)/100, 1e4)\n",
    "    axs[l].set_yscale(\"log\")\n",
    "    axs[l].set_title(\"convergence \"+name_phys[l][0] )\n",
    "    axs[l].set_xlabel('time')\n",
    "    axs[l].set_ylabel(\"convergence \" + name_phys[l][0])\n",
    "    #axs[l].legend(prop={'size': 10})\n",
    "\n",
    "plt.tight_layout()\n",
    "plt.savefig(\"convergence.pdf\")"
   ]
  },
  {
   "cell_type": "markdown",
   "id": "5c733638",
   "metadata": {},
   "source": [
    "### Comparaison des résultats de simulation aux données expérimentales\n",
    "Stocker les résultats des simulations dans une liste"
   ]
  },
  {
   "cell_type": "code",
   "execution_count": null,
   "id": "85403b18",
   "metadata": {},
   "outputs": [],
   "source": [
    "# # Recover simulation results in a list\n",
    "tab_pos = [\"\", \"_DIAG\"] # two probes were requested for each simulation\n",
    "# sim is a table were results are stored for every probe, every mesh and every experiment\n",
    "sim = [ [ [ -1 for l in range(len(tab_pos)) ] for r in range(n_raf) ] for n in range(n_exp) ]\n",
    "# every element in sim will be a dataframe (pandas) with results from every probe as columns\n",
    "for n in range(n_exp): # experience\n",
    "    for r in range(n_raf): # mesh\n",
    "        folder_run = f\"{config_exp}_{carac_essai['SetNumber'][n]}_raf_{title_raf[r]}\"\n",
    "        name = folder_run\n",
    "        for l in range(len(tab_pos)): # probe\n",
    "            sim[n][r][l] = pd.DataFrame()\n",
    "            sim[n][r][l]['r+']= np.linspace(0,1, 100)\n",
    "            sim[n][r][l]['vxl']=np.array(loadText(f\"{folder_run}/PAR_{name}_VITESSE_EAU{tab_pos[l]}.son\"))[1::3,-1]\n",
    "            sim[n][r][l]['vyl']=np.array(loadText(f\"{folder_run}/PAR_{name}_VITESSE_EAU{tab_pos[l]}.son\"))[2::3,-1]\n",
    "            sim[n][r][l]['vzl']=np.array(loadText(f\"{folder_run}/PAR_{name}_VITESSE_EAU{tab_pos[l]}.son\"))[3::3,-1]\n",
    "            sim[n][r][l]['vxg']=np.array(loadText(f\"{folder_run}/PAR_{name}_VITESSE_AIR{tab_pos[l]}.son\"))[1::3,-1]\n",
    "            sim[n][r][l]['vyg']=np.array(loadText(f\"{folder_run}/PAR_{name}_VITESSE_AIR{tab_pos[l]}.son\"))[2::3,-1]\n",
    "            sim[n][r][l]['vzg']=np.array(loadText(f\"{folder_run}/PAR_{name}_VITESSE_AIR{tab_pos[l]}.son\"))[3::3,-1]\n",
    "            sim[n][r][l]['k']  =np.array(loadText(f\"{folder_run}/PAR_{name}_K{tab_pos[l]}.son\"))[1::,-1]\n",
    "            sim[n][r][l]['alp']=np.array(loadText(f\"{folder_run}/PAR_{name}_ALPHA_AIR{tab_pos[l]}.son\"))[1::,-1]\n",
    "            sim[n][r][l]['DB'] =1000*np.array(loadText(f\"{folder_run}/PAR_{name}_DIAMETRE{tab_pos[l]}.son\"))[2::2,-1]\n",
    "            sim[n][r][l]['dp'] =np.array(loadText(f\"{folder_run}/PAR_{name}_DP{tab_pos[l]}.son\"))[1::,-1]"
   ]
  },
  {
   "cell_type": "markdown",
   "id": "8a70bf5f",
   "metadata": {},
   "source": [
    "Lisser les profiles en ne conservant qu'une seule valeur par cellule de maillage"
   ]
  },
  {
   "cell_type": "code",
   "execution_count": null,
   "id": "c8ba1118",
   "metadata": {},
   "outputs": [],
   "source": [
    "# # smooth profiles for esthetic reasons : get values in each cell\n",
    "# get index of each cell\n",
    "tab_i = [ [ [ [] for l in range(len(tab_pos)) ] for r in range(n_raf) ] for n in range(n_exp) ]\n",
    "for n in range(n_exp): # experience\n",
    "    for r in range(n_raf): # mesh\n",
    "        for l in range(len(tab_pos)): # probe\n",
    "            i0 = 0\n",
    "            i = i0+1\n",
    "\n",
    "            while (i<1000) and (np.abs(sim[n][r][l]['dp'][i]) > 1.e-10) :\n",
    "                while (np.abs(sim[n][r][l]['dp'][i]-sim[n][r][l]['dp'][i0])<1.e-10) :\n",
    "                    i+=1\n",
    "                tab_i[n][r][l] += [i0 + (i-i0)//2]\n",
    "                i0 = i\n",
    "# get smooth profiles to store in \"simbo\"\n",
    "simbo    = [ [ [ -1 for l in range(len(tab_pos)) ] for r in range(n_raf) ] for n in range(n_exp) ]\n",
    "index    = [\"r+\",  \"alp\", \"vzl\", \"vzg\", \"k\", 'DB']\n",
    "\n",
    "for n in range(n_exp): # experience\n",
    "    for r in range(n_raf): # mesh\n",
    "        for l in range(len(tab_pos)): # probe\n",
    "            simbo[n][r][l] = pd.DataFrame()\n",
    "            for ind in index :\n",
    "                tab_loc = []\n",
    "                for i in tab_i[n][r][l] :\n",
    "                    tab_loc += [sim[n][r][l][ind][i]]\n",
    "                simbo[n][r][l][ind] = np.array(tab_loc)"
   ]
  },
  {
   "cell_type": "markdown",
   "id": "5c3f4e89",
   "metadata": {},
   "source": [
    "Récupérer les données expérimentales dans une liste"
   ]
  },
  {
   "cell_type": "code",
   "execution_count": null,
   "id": "841633bb",
   "metadata": {},
   "outputs": [],
   "source": [
    "# # recover test results\n",
    "Exp = [ -1 for n in range(n_exp) ]\n",
    "ExpTurb = [ -1 for n in range(n_exp) ]\n",
    "\n",
    "for n in range(n_exp): # experience\n",
    "    Exp_file = f\"{build}/../donnees/HIBIKI/Set{n+1}/zD=53.5/exp.csv\"\n",
    "    df = pd.read_csv(Exp_file, sep=\",\")\n",
    "    Exp[n] = df"
   ]
  },
  {
   "cell_type": "markdown",
   "id": "43a3740e",
   "metadata": {},
   "source": [
    "Tracé des différents profils ainsi que les données expérimentales correspondantes"
   ]
  },
  {
   "cell_type": "code",
   "execution_count": null,
   "id": "a9b9cb34",
   "metadata": {},
   "outputs": [],
   "source": [
    "fig = plt.figure(figsize = (28, 14))\n",
    "axs = fig.subplots(6, 4 )\n",
    "\n",
    "# mesh\n",
    "raf = 1\n",
    "# probe\n",
    "l = 0\n",
    "# marker size for experimental data\n",
    "ms = 3\n",
    "# couleurs plot\n",
    "tab_color = [\"saddlebrown\", \"red\",  \"orange\", \"chartreuse\", \"forestgreen\", \"lightseagreen\", 'cyan', \"royalblue\",  \"indigo\", 'purple', 'magenta']\n",
    "# # many experiments can be grouped using the liquid flow rate J_L\n",
    "# index corresponding to each group\n",
    "flow = [[i for i in range(4)],\n",
    "       [i for i in range(4, 8)],\n",
    "       [i for i in range(8, 12)],\n",
    "       [i for i in range(12,16)]]\n",
    "# Label used in the plot for each group\n",
    "label_line = [r\"Hibiki $J_L = .491$ (ms$^{-1}$)\",\n",
    "               r\"Hibiki $J_L = .986$ (ms$^{-1}$)\",\n",
    "               r\"Hibiki $J_L = 2.01$ (ms$^{-1}$)\",\n",
    "               r\"Hibiki $J_L = 5.$ (ms$^{-1}$)\"]\n",
    "# axis limiters\n",
    "lim_alp = [.4,.4,.5,.5]\n",
    "lim_u = [1.2,2.0,4.0,11.]\n",
    "lim_u_min = [0.2,.7,1.5,3.]\n",
    "lim_u_prime = [.3,.3,0.3,.6]\n",
    "lim_d = [5,5,6,5]\n",
    "\n",
    "# # plot results\n",
    "for i in range(len(flow)): # values of J_L\n",
    "    for n in flow[i]:      # experiments with the same J_L\n",
    "        # Simulation results\n",
    "        axs[0,i].plot([-1, -2],[-1, -1], \"o-\", label = f\"{carac_essai['SetNumber'][n]}\", color=tab_color[n-flow[i][0]], markerfacecolor = \"White\")\n",
    "        axs[1,i].plot(simbo[n][raf-1][l]['r+'], simbo[n][raf-1][l]['alp'], color=tab_color[n-flow[i][0]]) # alpha(r/R) : void fraction\n",
    "        axs[2,i].plot(simbo[n][raf-1][l]['r+'], simbo[n][raf-1][l]['DB'], color=tab_color[n-flow[i][0]])  # d_B(r/R)   : bubble diameter\n",
    "        axs[3,i].plot(simbo[n][raf-1][l]['r+'], simbo[n][raf-1][l]['vzl'], color=tab_color[n-flow[i][0]]) # U_L(r/R)   : mean liquid velocity\n",
    "        axs[4,i].plot(simbo[n][raf-1][l]['r+'], simbo[n][raf-1][l]['vzg'], color=tab_color[n-flow[i][0]]) # U_G(r/R)   : mean air velocity\n",
    "        axs[5,i].plot(simbo[n][raf-1][l]['r+'], np.sqrt(simbo[n][raf-1][l]['k']), color=tab_color[n-flow[i][0]]) # u'_L(r/R) : liquid velocity fluctuations (computed as sqrt(k))\n",
    "        \n",
    "        # Experimental points\n",
    "        axs[1,i].plot(Exp[n]['r/R'],  Exp[n]['alpha'], \"o\", markersize = ms, color=tab_color[n-flow[i][0]], markerfacecolor = \"White\")\n",
    "        axs[2,i].plot(Exp[n]['r/R'],  Exp[n]['Dav'], \"o\", markersize = ms, color=tab_color[n-flow[i][0]], markerfacecolor = \"White\")\n",
    "        axs[3,i].plot(Exp[n]['r/R'],  Exp[n]['u_f'], \"o\", markersize = ms, color=tab_color[n-flow[i][0]], markerfacecolor = \"White\")\n",
    "        axs[4,i].plot(Exp[n]['r/R'],  Exp[n]['u_g'], \"o\", markersize = ms, color=tab_color[n-flow[i][0]], markerfacecolor = \"White\")\n",
    "        axs[5,i].plot(Exp[n]['r/R'],  Exp[n]['up'], \"o\", markersize = ms, color=tab_color[n-flow[i][0]], markerfacecolor = \"White\")\n",
    "        \n",
    "        # Titles\n",
    "        axs[0,i].text(0,0, label_line[i], ha = \"center\", va = \"center\", fontsize = 14)\n",
    "        axs[0,i].legend(loc = 'lower center', fontsize = 10, ncol=2)\n",
    "        axs[0,i].set_xlim(-.5,.5)\n",
    "        axs[0,i].set_ylim(-.7,.3)\n",
    "        axs[0,i].axis('off')\n",
    "        \n",
    "        # plot labels\n",
    "        axs[1,i].set_ylabel(r\"$\\alpha$\")\n",
    "        axs[2,i].set_ylabel(r\"$d_B$ (mm)\")\n",
    "        axs[3,i].set_ylabel(r\"$U_L$ (ms$^{-1}$)\")\n",
    "        axs[4,i].set_ylabel(r\"$U_G$ (ms$^{-1}$)\")\n",
    "        axs[5,i].set_ylabel(r\"$k$ (m$^{2}$s$^{-2}$)\")\n",
    "        axs[5,i].set_xlabel(r\"$r/R$\")\n",
    "        \n",
    "        # axis limiters\n",
    "        axs[1,i].set_ylim(0, lim_alp[i])\n",
    "        axs[2,i].set_ylim(0, lim_d[i])\n",
    "        axs[3,i].set_ylim(lim_u_min[i], lim_u[i])\n",
    "        axs[4,i].set_ylim(lim_u_min[i], lim_u[i])\n",
    "        axs[5,i].set_ylim(0, lim_u_prime[i])\n",
    "fig.suptitle(\"Comparaison des résultats de simulation aux données expérimentales de Hibiki et Ishii\", fontsize = 26)\n",
    "fig.tight_layout()\n",
    "plt.savefig(\"results.pdf\")"
   ]
  }
 ],
 "metadata": {
  "kernelspec": {
   "display_name": "Python 3 (ipykernel)",
   "language": "python",
   "name": "python3"
  },
  "language_info": {
   "codemirror_mode": {
    "name": "ipython",
    "version": 3
   },
   "file_extension": ".py",
   "mimetype": "text/x-python",
   "name": "python",
   "nbconvert_exporter": "python",
   "pygments_lexer": "ipython3",
   "version": "3.7.9"
  }
 },
 "nbformat": 4,
 "nbformat_minor": 5
}
