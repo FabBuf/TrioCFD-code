{
 "cells": [
  {
   "cell_type": "markdown",
   "id": "f00c33c7",
   "metadata": {},
   "source": [
    "# How to use Jupyter's notebooks to create validation forms\n",
    "\n",
    "This notebook introduces TRUST(and BALTIKS) validation forms using jupyter, and shows the main possibilities offered by \"trustutils\" API and Jupyter's notebooks. \n",
    "\n",
    "Notebook for validation forms requires a particular environment, which is set up by TRUST."
   ]
  },
  {
   "cell_type": "markdown",
   "id": "8035750a",
   "metadata": {},
   "source": [
    "## <u>What is a validation form?</u>\n",
    "\n",
    "A validation form has two contexts:\n",
    "\n",
    "* If made by a **user**, it will, for example:\n",
    "  + explain the goal of the study\n",
    "  + explain test case setup (geometry, boundary conditions, initial conditions, problem being solved,...) \n",
    "  + runs specific datafiles\n",
    "  + extract relevent results\n",
    "  + show results (figures/tables/graphs/...) with further comparisons if needed\n",
    "  + with conclusions\n",
    "\n",
    "* If made by a **developer**, it will for example:\n",
    "  + explain the goal of the study\n",
    "  + explain performed devlopements\n",
    "  + run test cases\n",
    "  + extract relevant results and display figures/tables/graphs/... with further comparisons if needed\n",
    "  + with conclusions\n",
    "\n",
    "In both cases, the validation form will help into:\n",
    "* the understanding of developments and validation\n",
    "* the understanding of tests being performed\n",
    "and users and developer's will be able to re-run the validation form and generate a pdf report.\n",
    "\n",
    "Furthermore, when the validation form is merged in TRUST or another BALTIK, it will:\n",
    "* be run often to ensure non-regression\n",
    "* probably be used to generate non-regression test cases (run on 3 time steps)\n",
    "* help future users/developers to understand what is being tested"
   ]
  },
  {
   "cell_type": "markdown",
   "id": "d1e88aa0",
   "metadata": {},
   "source": [
    "## <u>Important remarks</u>\n",
    "\n",
    "* **You should edit the notebook in your web browser** and not in a text editor\n",
    "* Auto compeltion is available for trustutils functions and for code in general by hitting \"Tab\" key.\n",
    "* Autosave is disabled by default, **do not forget to save you work**.\n",
    "* By default, the output of notebooks (text, curves and VisIt images) are not saved to avoid polluting the version control system (git). This can be changed using the instruction below in one of your code cells\\\n",
    "<code>#run.saveFormOutput()</code>\\\n",
    "This option must be activated if you want to export your notebook in PDF format (File -> Download as ...) with the results of the code cells, for this you should add in a code cell the previous command uncommented.\n",
    "* By default, all instructions (creation of test cases from template, running test cases, execution of scripts if needed) are executed in the build directory. If you need to access to this directory explicitly, you can refer to it with:\\\n",
    "<code>run.BUILD_DIRECTORY   ## Contains the absolute path of the build directory.</code>"
   ]
  },
  {
   "cell_type": "markdown",
   "id": "c2099a06",
   "metadata": {},
   "source": [
    "## <u>Presentation features</u>\n",
    "\n",
    "\n",
    "This notebook presents examples of use of the main available features, which allows to: \n",
    "\n",
    "* create/run validation cases (TRUST or baltik test cases) through the [<code>run</code> module](#jupyter.run-module);\n",
    "  + To create/run test cases, see [common parameters](#General-parameters)\n",
    "\n",
    "* plot graphs, curves and generate tables from output files with the [<code>plot</code> module](#jupyter.plot-module);\n",
    "  + To plot graphs, see \n",
    "* create VisIt renderings with the [<code>visit</code> module](#Visitutils-function)\n",
    "* we will also see how to include a png figure\n",
    "\n",
    "The complete html documentation of these tools is available with trust -index"
   ]
  },
  {
   "cell_type": "markdown",
   "id": "invisible-subscriber",
   "metadata": {},
   "source": [
    "## <u>jupyter.run module</u>\n",
    "\n",
    "### <u>General parameters</u>\n",
    "\n",
    "Test cases that need to be executed in the form **should** be added through the API offered by the <code>run</code> module: "
   ]
  },
  {
   "cell_type": "code",
   "execution_count": null,
   "id": "acf60c91",
   "metadata": {},
   "outputs": [],
   "source": [
    "from trustutils import run"
   ]
  },
  {
   "cell_type": "markdown",
   "id": "0e7d598d",
   "metadata": {},
   "source": [
    "Some classical introduction blocks (Author, Short description, TRUST version used) can be generated automatically"
   ]
  },
  {
   "cell_type": "code",
   "execution_count": null,
   "id": "electoral-rebound",
   "metadata": {},
   "outputs": [
    {
     "data": {
      "text/markdown": [
       "## Introduction \n",
       " Validation made by : First Test\n"
      ],
      "text/plain": [
       "<IPython.core.display.Markdown object>"
      ]
     },
     "metadata": {},
     "output_type": "display_data"
    },
    {
     "data": {
      "text/markdown": [
       "\n",
       " Report created : 24/05/2023\n"
      ],
      "text/plain": [
       "<IPython.core.display.Markdown object>"
      ]
     },
     "metadata": {},
     "output_type": "display_data"
    },
    {
     "data": {
      "text/markdown": [
       "\n",
       " Report generated 24/05/2023"
      ],
      "text/plain": [
       "<IPython.core.display.Markdown object>"
      ]
     },
     "metadata": {},
     "output_type": "display_data"
    },
    {
     "data": {
      "text/markdown": [
       "### Description \n",
       "Lanching my first automatic test with Jupyter-notebook"
      ],
      "text/plain": [
       "<IPython.core.display.Markdown object>"
      ]
     },
     "metadata": {},
     "output_type": "display_data"
    },
    {
     "data": {
      "text/markdown": [
       "### TRUST parameters \n",
       " * Version TRUST: v1.9.2_beta\n",
       " * Binary used: /volatile/catC/linkai/TRIOCFD/TrioCFD_opt (built in directory /volatile/catC/linkai/TRIOCFD/share/Validation/Rapports_automatiques/Multiphase/Front_tracking_discontinu/SampleFormJupyter/build)"
      ],
      "text/plain": [
       "<IPython.core.display.Markdown object>"
      ]
     },
     "metadata": {},
     "output_type": "display_data"
    }
   ],
   "source": [
    "# Declaration of Author and (optionally) date \n",
    "run.introduction(\"First Test\",\"24/05/2023\")\n",
    "\n",
    "# In case of a very long description, it is better to write directly in a markdown cell without using this function\n",
    "run.description(\"Lanching my first automatic test with Jupyter-notebook\")\n",
    "\n",
    "# Declaration of the TRUST version\n",
    "run.TRUST_parameters(\"v1.9.2_beta\")\n",
    "\n",
    "# Do not forget, you can save output as mentionned in the \"Important Remarks\" by uncommenting the following line:\n",
    "run.saveFormOutput()\n"
   ]
  },
  {
   "cell_type": "markdown",
   "id": "62e7d75f",
   "metadata": {},
   "source": [
    "### Management of TRUST Cases\n",
    "First of all, you should import run module from trustutils:\\\n",
    "<code>**from** trustutils **import** run</code>\n",
    "\n",
    "Then, the <code>addCase</code> method allows to create an object of type <code>TRUSTCase</code> which has methods to copy and/or modify the datafile.\n",
    "\n",
    "By default, during the 1st call, it:\n",
    "* copies the entire <code>src</code> directory into <code>build</code>\n",
    "* invokes the <code>prepare</code> script if it exists (on new forms, users are encouraged to perform the maneuvers usually done in the prepare directly in a Jupyter code cell)\n",
    "\n",
    "See the <code>run.TRUSTSuite</code> class to control this more finely.\n",
    "\n",
    "At the beginning, or for fine tuning, it can be useful to reset everything to 0, i.e. delete the build directory, and empty the list of cases to be executed using:"
   ]
  },
  {
   "cell_type": "code",
   "execution_count": null,
   "id": "d8d92ecb",
   "metadata": {},
   "outputs": [],
   "source": [
    "run.reset()   ## Delete the build directory and empty the list of cases to be executed"
   ]
  },
  {
   "cell_type": "markdown",
   "id": "88e9c0f6",
   "metadata": {},
   "source": [
    "Then we specify datafiles to run and create others if needed by changing some parameters in the datafile.\n",
    "\n",
    "If we want to add a test case to run, we need to specify:\n",
    "* the directory in which the case is located inside src folder. Below the test case \"grad_u_transpose_3d.data\" is within src, hence the directory should be \".\"; from the other part, \"Couette_cylindrique.data\" is inside \"src/Couette\" folder so its relative path is \"Couette\".\n",
    "* the datafile's name. Below, datafiles are named grad_u_transpose_3d.data and Couette_cylindrique.data\n",
    "* the desired number of processors (default value=1, i.e: sequential datafile). In case of parallel calculation the partitioning with the requested number of processors is called with the <code>partition()</code> function "
   ]
  },
  {
   "cell_type": "code",
   "execution_count": null,
   "id": "wired-celtic",
   "metadata": {
    "tags": []
   },
   "outputs": [
    {
     "name": "stdout",
     "output_type": "stream",
     "text": [
      "src/grad_u_transpose_3d.data\n",
      "src/Couette/Couette_cylindrique.data\n"
     ]
    },
    {
     "data": {
      "text/plain": [
       "<trustutils.jupyter.run.TRUSTCase at 0x7ff600aa9610>"
      ]
     },
     "execution_count": 6,
     "metadata": {},
     "output_type": "execute_result"
    }
   ],
   "source": [
    "# code starts with ! will be excuted in bash\n",
    "\n",
    "!ls src/grad_u_transpose_3d.data\n",
    "!ls src/Couette/*.data\n",
    "\n",
    "\n",
    "Couette = run.addCase(\"Couette\",\"Couette_cylindrique.data\",nbProcs=2)\n",
    "Couette.partition()\n",
    "\n",
    "# for files direct under src/, put \".\" in the path, etc\n",
    "run.addCase(\".\",\"grad_u_transpose_3d.data\")"
   ]
  },
  {
   "cell_type": "markdown",
   "id": "5b68751c",
   "metadata": {},
   "source": [
    "It possible to use <code>addCaseFromTemplate</code> to generate test cases from your template data file using a dictionnary to substitute string starting with $.\n",
    "\n",
    "Here for example, we:\n",
    "* have a template datafile named diffusion.data, which mesh is generated using the internal TRUST mesher using:\n",
    "\n",
    "`\n",
    "Mailler dom\n",
    "{\n",
    "  Pave Cavite\n",
    "  {\n",
    "    Origine 0. 0.\n",
    "    Nombre_de_Noeuds `**`$number $number`**`\n",
    "    Longueurs 1. 1.\n",
    "  }\n",
    "  {\n",
    "    Bord Gauche  X = 0.0   0.0  <= Y <= 1.0\n",
    "    Bord Bas     Y = 0.0   0.0  <= X <= 1.0\n",
    "    Bord Droit   X = 1.0   0.0  <= Y <= 1.0\n",
    "    Bord Haut    Y = 1.0   0.0  <= X <= 1.0\n",
    "  }\n",
    "}`\n",
    "\n",
    "* want to substitute **$number** (which corresponds to the number of mesh nodes in each direction in diffusion.data) by a number (here 8) in order to generate test case with specific mesh refinement.\n",
    "* want to create the datafile diffusion.data in the directory \"coarse\"\n",
    "\n",
    "so we use:"
   ]
  },
  {
   "cell_type": "code",
   "execution_count": null,
   "id": "b4857308",
   "metadata": {},
   "outputs": [
    {
     "data": {
      "text/plain": [
       "<trustutils.jupyter.run.TRUSTCase at 0x7ff6cc6bdd10>"
      ]
     },
     "execution_count": 7,
     "metadata": {},
     "output_type": "execute_result"
    }
   ],
   "source": [
    "run.addCaseFromTemplate(\"diffusion.data\",directory=\"coarse\",d={\"number\": 8})"
   ]
  },
  {
   "cell_type": "markdown",
   "id": "2c154c09",
   "metadata": {},
   "source": [
    "Another possibility, we can create a datafile by keeping in a variable the TRUSTCase object to be able to manipulate it later:"
   ]
  },
  {
   "cell_type": "code",
   "execution_count": null,
   "id": "3eea9c80",
   "metadata": {},
   "outputs": [],
   "source": [
    "refined_data_file = run.addCaseFromTemplate(\"diffusion.data\",\"fine\",{\"number\": 32})"
   ]
  },
  {
   "cell_type": "markdown",
   "id": "91552a9e",
   "metadata": {},
   "source": [
    "We can also use the method <code>copy</code> to manage the file tree in the build and substitute some text, the use the <code>addCase</code> method to add it to the list of test cases to be run:"
   ]
  },
  {
   "cell_type": "code",
   "execution_count": null,
   "id": "c986df02",
   "metadata": {},
   "outputs": [],
   "source": [
    "medium_data_file = refined_data_file.copy(\"NewData.data\", directory=\"medium\")\n",
    "medium_data_file.substitute(\"Nombre_de_Noeuds 32 32\",\"Nombre_de_Noeuds 16 16\")\n",
    "# The case can then be added to the list to be executed with addCase\n",
    "run.addCase(medium_data_file)"
   ]
  },
  {
   "cell_type": "markdown",
   "id": "ba664a83",
   "metadata": {},
   "source": [
    "Finally, to get the list of test cases that will be executed, add: "
   ]
  },
  {
   "cell_type": "code",
   "execution_count": null,
   "id": "05d2d2ee",
   "metadata": {
    "tags": []
   },
   "outputs": [
    {
     "data": {
      "text/markdown": [
       "### Test cases \n",
       "* Couette/Couette_cylindrique.data : \n",
       "* ./grad_u_transpose_3d.data : \n",
       "* coarse/diffusion.data : \n",
       "* fine/diffusion.data : \n",
       "* medium/NewData.data : \n"
      ],
      "text/plain": [
       "<IPython.core.display.Markdown object>"
      ]
     },
     "metadata": {},
     "output_type": "display_data"
    }
   ],
   "source": [
    "run.printCases()"
   ]
  },
  {
   "cell_type": "markdown",
   "id": "8e8fbede",
   "metadata": {},
   "source": [
    "Then the launching of the cases is done with the method <code>runCases</code>. For each case:\n",
    "\n",
    "* the <code>pre_run</code> script, if any, is executed, \n",
    "* then the test case (<code>trust mydatafile.data</code>)\n",
    "* and finally the <code>post_run</code> script if any\n",
    " \n",
    "If a test case fails, the last 20 lines of the .err file are automatically displayed (you can for example try to modify the previous <code>substitute()</code> to make a case crash).\n",
    "\n",
    "To run the test cases, call:"
   ]
  },
  {
   "cell_type": "code",
   "execution_count": null,
   "id": "e3f30c59",
   "metadata": {
    "scrolled": true
   },
   "outputs": [
    {
     "name": "stdout",
     "output_type": "stream",
     "text": [
      "Running ...\n",
      "  => A total of 5 cases were (successfully) run in 12.9s.\n"
     ]
    }
   ],
   "source": [
    "run.runCases()"
   ]
  },
  {
   "cell_type": "markdown",
   "id": "18be2d81",
   "metadata": {},
   "source": [
    "<code>run.runCases()</code> accepts two options:\n",
    "* The 'verbose' option displays the output of TRUST. This is usually not wanted because it is already in the terminal\\\n",
    "<code>run.runCases(verbose=True)</code>\n",
    "* The <code>preventConcurrent=True</code> option ensures that the cases will be executed in the order in which they have been registered. This is useful for example if test case 1 generates a .xyz file which is read in test case 2 to set initial conditions, in this case, we do not want to run both cases at the same time. Otherwise, if the Sserver is active, it will be automatically used.\\\n",
    "<code>run.runCases(preventConcurrent=True)</code>"
   ]
  },
  {
   "cell_type": "markdown",
   "id": "1647ce1d",
   "metadata": {},
   "source": [
    "And finally we can display the performance table for all executed test cases:"
   ]
  },
  {
   "cell_type": "code",
   "execution_count": null,
   "id": "e40789b0",
   "metadata": {},
   "outputs": [
    {
     "data": {
      "text/html": [
       "<div>\n",
       "<style scoped>\n",
       "    .dataframe tbody tr th:only-of-type {\n",
       "        vertical-align: middle;\n",
       "    }\n",
       "\n",
       "    .dataframe tbody tr th {\n",
       "        vertical-align: top;\n",
       "    }\n",
       "\n",
       "    .dataframe thead th {\n",
       "        text-align: right;\n",
       "    }\n",
       "</style>\n",
       "<table border=\"1\" class=\"dataframe\">\n",
       "  <thead>\n",
       "    <tr style=\"text-align: right;\">\n",
       "      <th></th>\n",
       "      <th>host</th>\n",
       "      <th>system</th>\n",
       "      <th>Total CPU Time</th>\n",
       "      <th>CPU time/step</th>\n",
       "      <th>number of cells</th>\n",
       "    </tr>\n",
       "  </thead>\n",
       "  <tbody>\n",
       "    <tr>\n",
       "      <th>Couette/Couette_cylindrique</th>\n",
       "      <td>is246146</td>\n",
       "      <td>Linux</td>\n",
       "      <td>10.012100</td>\n",
       "      <td>0.0190779</td>\n",
       "      <td>1876</td>\n",
       "    </tr>\n",
       "    <tr>\n",
       "      <th>./grad_u_transpose_3d</th>\n",
       "      <td>is246146</td>\n",
       "      <td>Linux</td>\n",
       "      <td>0.056923</td>\n",
       "      <td>0.0037775</td>\n",
       "      <td>756</td>\n",
       "    </tr>\n",
       "    <tr>\n",
       "      <th>coarse/diffusion</th>\n",
       "      <td>is246146</td>\n",
       "      <td>Linux</td>\n",
       "      <td>0.288791</td>\n",
       "      <td>0.000248073</td>\n",
       "      <td>49</td>\n",
       "    </tr>\n",
       "    <tr>\n",
       "      <th>fine/diffusion</th>\n",
       "      <td>is246146</td>\n",
       "      <td>Linux</td>\n",
       "      <td>1.304950</td>\n",
       "      <td>0.00117761</td>\n",
       "      <td>961</td>\n",
       "    </tr>\n",
       "    <tr>\n",
       "      <th>medium/NewData</th>\n",
       "      <td>is246146</td>\n",
       "      <td>Linux</td>\n",
       "      <td>0.510751</td>\n",
       "      <td>0.000453033</td>\n",
       "      <td>225</td>\n",
       "    </tr>\n",
       "    <tr>\n",
       "      <th>Total</th>\n",
       "      <td></td>\n",
       "      <td></td>\n",
       "      <td>12.173515</td>\n",
       "      <td></td>\n",
       "      <td></td>\n",
       "    </tr>\n",
       "  </tbody>\n",
       "</table>\n",
       "</div>"
      ],
      "text/latex": [
       "\\begin{center} \n",
       " \\begin{tabular}{lllrll}\n",
       "\\toprule\n",
       "{} &      host & system &  Total CPU Time & CPU time/step & number of cells \\\\\n",
       "\\midrule\n",
       "Couette/Couette\\_cylindrique &  is246146 &  Linux &       10.012100 &     0.0190779 &            1876 \\\\\n",
       "./grad\\_u\\_transpose\\_3d       &  is246146 &  Linux &        0.056923 &     0.0037775 &             756 \\\\\n",
       "coarse/diffusion            &  is246146 &  Linux &        0.288791 &   0.000248073 &              49 \\\\\n",
       "fine/diffusion              &  is246146 &  Linux &        1.304950 &    0.00117761 &             961 \\\\\n",
       "medium/NewData              &  is246146 &  Linux &        0.510751 &   0.000453033 &             225 \\\\\n",
       "Total                       &           &        &       12.173515 &               &                 \\\\\n",
       "\\bottomrule\n",
       "\\end{tabular}\n",
       " \n",
       " \\end{center}"
      ],
      "text/plain": [
       "                                 host system  Total CPU Time CPU time/step  \\\n",
       "Couette/Couette_cylindrique  is246146  Linux       10.012100     0.0190779   \n",
       "./grad_u_transpose_3d        is246146  Linux        0.056923     0.0037775   \n",
       "coarse/diffusion             is246146  Linux        0.288791   0.000248073   \n",
       "fine/diffusion               is246146  Linux        1.304950    0.00117761   \n",
       "medium/NewData               is246146  Linux        0.510751   0.000453033   \n",
       "Total                                              12.173515                 \n",
       "\n",
       "                            number of cells  \n",
       "Couette/Couette_cylindrique            1876  \n",
       "./grad_u_transpose_3d                   756  \n",
       "coarse/diffusion                         49  \n",
       "fine/diffusion                          961  \n",
       "medium/NewData                          225  \n",
       "Total                                        "
      ]
     },
     "execution_count": 12,
     "metadata": {},
     "output_type": "execute_result"
    }
   ],
   "source": [
    "run.tablePerf()"
   ]
  },
  {
   "cell_type": "markdown",
   "id": "9a606bc3",
   "metadata": {},
   "source": [
    "### <u>Additional functions</u>"
   ]
  },
  {
   "cell_type": "markdown",
   "id": "454228d3",
   "metadata": {},
   "source": [
    "The MEDCoupling environment can be automatically loaded with: "
   ]
  },
  {
   "cell_type": "code",
   "execution_count": null,
   "id": "ad90d59a",
   "metadata": {},
   "outputs": [
    {
     "name": "stdout",
     "output_type": "stream",
     "text": [
      "Name of double array : \"\"\n",
      "Number of components : 1\n",
      "Info of these components : \"\"   \n",
      "Number of tuples : 3\n",
      "Internal memory facts : 3/3\n",
      "Data content :\n",
      "Tuple #0 : 1 \n",
      "Tuple #1 : 2 \n",
      "Tuple #2 : 3 \n",
      "\n"
     ]
    }
   ],
   "source": [
    "run.useMEDCoupling()\n",
    "# Let's test it!\n",
    "import medcoupling as mc\n",
    "print(mc.DataArrayDouble([1,2,3]))"
   ]
  },
  {
   "cell_type": "markdown",
   "id": "c45217a4",
   "metadata": {},
   "source": [
    "Some additional script (other than prepare/pre_run/post_run) or a shell command can be executed from the notebook"
   ]
  },
  {
   "cell_type": "code",
   "execution_count": null,
   "id": "b9e80442",
   "metadata": {
    "scrolled": true
   },
   "outputs": [
    {
     "name": "stdout",
     "output_type": "stream",
     "text": [
      "./extract_number_of_cells\n",
      "None\n",
      "./fine/diffusion.data 961\n",
      "./medium/NewData.data 225\n",
      "./diffusion.data 1\n",
      "./grad_u_transpose_3d.data 25\n",
      "./coarse/diffusion.data 49\n",
      "cat nb_cells\n",
      "None\n"
     ]
    }
   ],
   "source": [
    "run.executeScript(\"extract_number_of_cells\",verbose=1)\n",
    "run.executeCommand(\"cat nb_cells\",verbose=1)"
   ]
  },
  {
   "cell_type": "markdown",
   "id": "0b7857b6",
   "metadata": {},
   "source": [
    "We can display the datafile and highlight a specific keyword, here, dom, using:"
   ]
  },
  {
   "cell_type": "code",
   "execution_count": null,
   "id": "3f7d8102",
   "metadata": {},
   "outputs": [
    {
     "name": "stdout",
     "output_type": "stream",
     "text": [
      " \u001b[38;5;88m# PARALLEL OK #\n",
      "\u001b[0;0m dimension 2\n",
      "\u001b[38;5;28m Pb_conduction \u001b[0;0mpb\n",
      "\u001b[38;5;28m Domaine \u001b[0;0m\u001b[38;5;196mdom\u001b[0;0m\n",
      " \n",
      " \u001b[38;5;88m# BEGIN MESH #\n",
      "\u001b[0;0m\u001b[38;5;28m Mailler \u001b[0;0m\u001b[38;5;196mdom\u001b[0;0m\n",
      " \u001b[196;5;30m{\u001b[0;0m\n",
      "    \u001b[38;5;28m Pave \u001b[0;0mCavite\n",
      "     \u001b[196;5;30m{\u001b[0;0m\n",
      "        \u001b[38;5;28m Origine \u001b[0;0m0. 0.\n",
      "         Nombre_de_Noeuds 16 16\n",
      "         Longueurs 1. 1.\n",
      "     \u001b[196;5;30m}\u001b[0;0m\n",
      "     \u001b[196;5;30m{\u001b[0;0m\n",
      " \t\u001b[38;5;28m Bord \u001b[0;0mGauche  X\u001b[38;5;28m = \u001b[0;0m0.0   0.0 \u001b[38;5;28m <= \u001b[0;0mY\u001b[38;5;28m <= \u001b[0;0m1.0\n",
      "        \u001b[38;5;28m Bord \u001b[0;0mBas     Y\u001b[38;5;28m = \u001b[0;0m0.0   0.0 \u001b[38;5;28m <= \u001b[0;0mX\u001b[38;5;28m <= \u001b[0;0m1.0\n",
      "        \u001b[38;5;28m Bord \u001b[0;0mDroit   X\u001b[38;5;28m = \u001b[0;0m1.0   0.0 \u001b[38;5;28m <= \u001b[0;0mY\u001b[38;5;28m <= \u001b[0;0m1.0\n",
      "        \u001b[38;5;28m Bord \u001b[0;0mHaut    Y\u001b[38;5;28m = \u001b[0;0m1.0   0.0 \u001b[38;5;28m <= \u001b[0;0mX\u001b[38;5;28m <= \u001b[0;0m1.0\n",
      "     \u001b[196;5;30m}\u001b[0;0m\n",
      " \u001b[196;5;30m}\u001b[0;0m\n",
      " \u001b[38;5;88m\u001b[38;5;88m# END MESH #\n",
      "\u001b[0;0m\u001b[0;0m \n",
      " \u001b[38;5;88m# BEGIN PARTITION\n",
      "\u001b[0;0m \u001b[38;5;88mPartition dom\n",
      "\u001b[0;0m \u001b[38;5;88m{\n",
      "\u001b[0;0m \u001b[38;5;88m    partitionneur metis { Nb_parts 4 }\n",
      "\u001b[0;0m \u001b[38;5;88m    larg_joint 1\n",
      "\u001b[0;0m \u001b[38;5;88m    zones_name DOM\n",
      "\u001b[0;0m \u001b[38;5;88m}\n",
      "\u001b[0;0m \u001b[38;5;88m\u001b[38;5;88mEnd\n",
      "\u001b[0;0m\u001b[0;0m \u001b[38;5;88m\u001b[38;5;88mEND PARTITION #\n",
      "\u001b[0;0m\u001b[0;0m \n",
      " \u001b[38;5;88m# BEGIN SCATTER\n",
      "\u001b[0;0m \u001b[38;5;88mScatter DOM.Zones dom\n",
      "\u001b[0;0m \u001b[38;5;88m\u001b[38;5;88mEND SCATTER #\n",
      "\u001b[0;0m\u001b[0;0m \n",
      " VDF dis\n",
      " \n",
      " Schema_euler_implicite sch\n",
      "\u001b[38;5;28m \u001b[38;5;4mRead\u001b[0;0m \u001b[0;0msch\n",
      " \u001b[196;5;30m{\u001b[0;0m\n",
      "    \u001b[38;5;28m tinit \u001b[0;0m0\n",
      "    \u001b[38;5;28m dt_max \u001b[0;0m 1e-3\n",
      "    \u001b[38;5;28m dt_impr \u001b[0;0m1e-10\n",
      "    \u001b[38;5;28m seuil_statio \u001b[0;0m1e-8\n",
      "    \u001b[38;5;28m facsec \u001b[0;0m1e8\n",
      "    \u001b[38;5;28m solveur \u001b[0;0mimplicite\n",
      "     \u001b[196;5;30m{\u001b[0;0m\n",
      "        \u001b[38;5;28m solveur \u001b[0;0mgmres \u001b[196;5;30m{\u001b[0;0m\u001b[38;5;28m diag \u001b[0;0mseuil 1.e-13\u001b[38;5;28m nb_it_max \u001b[0;0m5\u001b[38;5;28m impr \u001b[0;0m\u001b[196;5;30m}\u001b[0;0m \n",
      "     \u001b[196;5;30m}\u001b[0;0m\n",
      " \u001b[196;5;30m}\u001b[0;0m\n",
      " \n",
      "\u001b[38;5;28m Associate \u001b[0;0mpb \u001b[38;5;196mdom\u001b[0;0m\n",
      "\u001b[38;5;28m Associate \u001b[0;0mpb sch\n",
      " \n",
      "\u001b[38;5;28m Discretize \u001b[0;0mpb dis\n",
      " \n",
      "\u001b[38;5;28m \u001b[38;5;4mRead\u001b[0;0m \u001b[0;0mpb\n",
      " \u001b[196;5;30m{\u001b[0;0m\n",
      " \n",
      "    \u001b[38;5;28m solide \u001b[0;0m\u001b[196;5;30m{\u001b[0;0m\n",
      "        \u001b[38;5;28m rho \u001b[0;0m    Champ_Uniforme 1 1.\n",
      "        \u001b[38;5;28m lambda \u001b[0;0m Champ_Uniforme 1 1.\n",
      "        \u001b[38;5;28m Cp \u001b[0;0m     Champ_Uniforme 1 1.\n",
      "     \u001b[196;5;30m}\u001b[0;0m\n",
      "    \n",
      "     \u001b[38;5;4mConduction\u001b[0;0m\n",
      "     \u001b[196;5;30m{\u001b[0;0m\n",
      "        \u001b[38;5;28m \u001b[38;5;4mdiffusion\u001b[0;0m \u001b[0;0m\u001b[196;5;30m{\u001b[0;0m \u001b[196;5;30m}\u001b[0;0m\n",
      "        \u001b[38;5;28m \u001b[38;5;4minitial_conditions\u001b[0;0m \u001b[0;0m\u001b[196;5;30m{\u001b[0;0m\n",
      "            \u001b[38;5;28m temperature \u001b[0;0mChamp_Fonc_XYZ \u001b[38;5;196mdom\u001b[0;0m 1 0*sin(pi*x)*sin(pi*y)\n",
      "         \u001b[196;5;30m}\u001b[0;0m\n",
      "        \u001b[38;5;28m \u001b[38;5;4mboundary_conditions\u001b[0;0m \u001b[0;0m\u001b[196;5;30m{\u001b[0;0m\n",
      "             Haut paroi_temperature_imposee Champ_Front_Uniforme 1 0\n",
      "             Bas paroi_temperature_imposee Champ_Front_Uniforme 1 0\n",
      "             Gauche paroi_temperature_imposee Champ_Front_Uniforme 1 0\n",
      "             Droit paroi_temperature_imposee Champ_Front_Uniforme 1 0\n",
      "         \u001b[196;5;30m}\u001b[0;0m\n",
      "        \u001b[38;5;28m sources \u001b[0;0m\u001b[196;5;30m{\u001b[0;0m\n",
      "            \u001b[38;5;28m Puissance_thermique \u001b[0;0mChamp_Fonc_XYZ \u001b[38;5;196mdom\u001b[0;0m 1 2.*pi*pi*sin(pi*x)*sin(pi*y)\n",
      "         \u001b[196;5;30m}\u001b[0;0m\n",
      "     \u001b[196;5;30m}\u001b[0;0m\n",
      " \n",
      "     \u001b[38;5;4mPost_processing\u001b[0;0m\n",
      "     \u001b[196;5;30m{\u001b[0;0m\n",
      "         Definition_champs\n",
      "         \u001b[196;5;30m{\u001b[0;0m\n",
      "             erreur_T\u001b[38;5;28m transformation \u001b[0;0m\u001b[196;5;30m{\u001b[0;0m\n",
      "                \u001b[38;5;28m methode \u001b[0;0mformule\u001b[38;5;28m expression \u001b[0;0m1 abs(Temp-sin(pi*x)*sin(pi*y))\n",
      "                \u001b[38;5;28m sources \u001b[0;0m\u001b[196;5;30m{\u001b[0;0m\n",
      "                     refChamp \u001b[196;5;30m{\u001b[0;0m\u001b[38;5;28m pb_champ \u001b[0;0mpb temperature\u001b[38;5;28m nom_source \u001b[0;0mTemp \u001b[196;5;30m}\u001b[0;0m\n",
      "                 \u001b[196;5;30m}\u001b[0;0m\n",
      "             \u001b[196;5;30m}\u001b[0;0m\n",
      "             max_erreur_T reduction_0D \u001b[196;5;30m{\u001b[0;0m\n",
      "                \u001b[38;5;28m methode \u001b[0;0ml2_norm\u001b[38;5;28m source_reference \u001b[0;0merreur_T\n",
      "             \u001b[196;5;30m}\u001b[0;0m\n",
      "         \u001b[196;5;30m}\u001b[0;0m\n",
      " \n",
      "         \u001b[38;5;4mProbes\u001b[0;0m\n",
      "         \u001b[196;5;30m{\u001b[0;0m\n",
      "             temperature_probe temperature\u001b[38;5;28m periode \u001b[0;0m0.2 points 1 0.45 0.45\n",
      "             temperature_diag\u001b[38;5;28m grav \u001b[0;0mtemperature\u001b[38;5;28m periode \u001b[0;0m1e8\u001b[38;5;28m segment \u001b[0;0m100 0. 1. 1. 0. \n",
      "             temperature_X\u001b[38;5;28m grav \u001b[0;0mtemperature\u001b[38;5;28m periode \u001b[0;0m1e8\u001b[38;5;28m segment \u001b[0;0m100 0. 1. 1. 0.\n",
      "             norme_linf max_erreur_T\u001b[38;5;28m periode \u001b[0;0m1e-7 numero_elem_sur_maitre 0\n",
      "         \u001b[196;5;30m}\u001b[0;0m\n",
      "        \u001b[38;5;28m format \u001b[0;0mlata\n",
      "         \u001b[38;5;4mfields\u001b[0;0m\u001b[38;5;28m dt_post \u001b[0;0m30.\n",
      "         \u001b[196;5;30m{\u001b[0;0m\n",
      "            \u001b[38;5;28m temperature \u001b[0;0melem\n",
      "            \u001b[38;5;28m temperature \u001b[0;0msom\n",
      "             erreur_T\n",
      "         \u001b[196;5;30m}\u001b[0;0m\n",
      "     \u001b[196;5;30m}\u001b[0;0m\n",
      " \u001b[196;5;30m}\u001b[0;0m\n",
      " \n",
      "\u001b[38;5;28m Solve \u001b[0;0mpb\n",
      " \u001b[38;5;88mEnd\n",
      "\u001b[0;0m\n"
     ]
    }
   ],
   "source": [
    "medium_data_file.dumpDataset([\"dom\"])  # highlighting a specific word"
   ]
  },
  {
   "cell_type": "markdown",
   "id": "fa2b752d",
   "metadata": {},
   "source": [
    "The method dumpDataset is specific to the file \\*.data, to display an ascii file, it is possible to use the method:"
   ]
  },
  {
   "cell_type": "code",
   "execution_count": null,
   "id": "fbfb51b4",
   "metadata": {},
   "outputs": [
    {
     "name": "stdout",
     "output_type": "stream",
     "text": [
      " \u001b[38;5;88m#!/bin/bash \n",
      "\u001b[0;0m rm -f nb_cells\n",
      " for f in `find -name \"*.data\"`\n",
      " do\n",
      "   nbCells=\"\"\n",
      "   nbCells=`grep -i nombre_de_noeud $f | $TRUST_Awk '{print ($2-1)*($3-1)}'`\n",
      "   [ \"$nbCells\" != \"\" ] && echo $f $nbCells >> nb_cells\n",
      " done\n",
      " exit 0\n",
      "\n"
     ]
    }
   ],
   "source": [
    "run.dumpText('extract_number_of_cells',list_keywords=[\"number_of_nodes\",\"nbr_maille\"])"
   ]
  },
  {
   "cell_type": "markdown",
   "id": "accessory-onion",
   "metadata": {},
   "source": [
    "## <u>jupyter.plot module</u> "
   ]
  },
  {
   "cell_type": "markdown",
   "id": "fd9f2aa5",
   "metadata": {},
   "source": [
    "### Graph plot\n",
    "\n",
    "This module allows to display curves and other graphs from the TRUST probes and output files. It is based on matplotlib. \n",
    "\n",
    "We will see how to:\n",
    "* plot a graph for a probe (single proble) using <code>addPoint</code> function\n",
    "* plot a graph from a segment of probes using <code>addSegment</code> function\n",
    "* add a curve using <code>add</code> function \n",
    "* make multiplots\n",
    "* plot residuals\n",
    "\n",
    "You can for example plot the time evolution of a field at a given point of the domain (which corresponds to a probe at a single point) using:"
   ]
  },
  {
   "cell_type": "code",
   "execution_count": null,
   "id": "inside-slovakia",
   "metadata": {
    "scrolled": false,
    "tags": []
   },
   "outputs": [
    {
     "data": {
      "image/png": "[encoded data removed]",
      "text/plain": [
       "<Figure size 1080x576 with 1 Axes>"
      ]
     },
     "metadata": {
      "needs_background": "light"
     },
     "output_type": "display_data"
    }
   ],
   "source": [
    "from trustutils import plot\n",
    "\n",
    "# Simple graph from point probe\n",
    "Graph=plot.Graph(\"$T(0.45,0.45)=f(t)$\",size=[15,8])\n",
    "Graph.addPoint(\"fine/diffusion_TEMPERATURE_PROBE.son\",marker='-o')"
   ]
  },
  {
   "cell_type": "markdown",
   "id": "3cd5dfd5",
   "metadata": {},
   "source": [
    "To plot a graph from many probe files, you can use:"
   ]
  },
  {
   "cell_type": "code",
   "execution_count": null,
   "id": "be67a099",
   "metadata": {},
   "outputs": [
    {
     "data": {
      "image/png": "[encoded data removed]",
      "text/plain": [
       "<Figure size 1080x576 with 1 Axes>"
      ]
     },
     "metadata": {
      "needs_background": "light"
     },
     "output_type": "display_data"
    }
   ],
   "source": [
    "from trustutils import plot\n",
    "import numpy as np\n",
    "\n",
    "# More complex graph\n",
    "Graph=plot.Graph(\"Time evolution of temperature\",size=[15,8])\n",
    "Graph.addPoint(\"coarse/diffusion_TEMPERATURE_PROBE.son\",label=\"coarse mesh\",color=\"r\",marker=\"-o\")\n",
    "Graph.addPoint(\"medium/NewData_TEMPERATURE_PROBE.son\",label=\"medium mesh\",color=\"b\",marker=\"-*\")\n",
    "Graph.addPoint(\"fine/diffusion_TEMPERATURE_PROBE.son\",label=\"fine mesh\",color=\"g\",marker=\"s\")\n",
    "\n",
    "# To add any curve, use the \"add\" method. \n",
    "#x=np.linspace(0,2,100)\n",
    "#y=2*(x-1)*(x-1)\n",
    "#Graph.add(x,y,label=\"Plot\")\n",
    "\n",
    "# The functions add, addPoint and addSegment take as options \n",
    "# the arguments of matplotlib.pyplot.plot\n",
    "#y = np.exp(x)/3\n",
    "#Graph.add(x,y,label=\"exp\",linewidth=3.,marker='s',mfc='none')\n",
    "\n",
    "# The legend function takes the arguments of matplotlib.pyplot.legend\n",
    "Graph.legend(loc='upper center', bbox_to_anchor=(0.5, -0.1),\n",
    "          fancybox=True, shadow=True, ncol=2)\n",
    "\n",
    "# Method to change the axis titles.\n",
    "Graph.label(\"x\",\"y\")\n",
    "\n",
    "# Method to frame the plot.\n",
    "# All parameters are not mandatory:\n",
    "Graph.visu(xmin=0,xmax=1.5,ymin=0,ymax=1.1)"
   ]
  },
  {
   "cell_type": "markdown",
   "id": "94777183",
   "metadata": {},
   "source": [
    "To add a graph plotting a segment of probes, and an analytical solution, you can use"
   ]
  },
  {
   "cell_type": "code",
   "execution_count": null,
   "id": "b9e5a54a",
   "metadata": {},
   "outputs": [
    {
     "data": {
      "image/png": "[encoded data removed]",
      "text/plain": [
       "<Figure size 1080x576 with 1 Axes>"
      ]
     },
     "metadata": {
      "needs_background": "light"
     },
     "output_type": "display_data"
    }
   ],
   "source": [
    "from trustutils import plot\n",
    "import numpy as np\n",
    "import math\n",
    "\n",
    "# To plot the variables of a segment of probes at a given time (by default, at the last time step), \n",
    "# the graph displays the closest value in the probe file. \n",
    "# The compo keyword corresponds to the index to plot for a field with several dimensions (e.g. velocity)\n",
    "Graph=plot.Graph(\"Segment probe\",size=[15,8])\n",
    "Graph.addSegment(\"Couette/PAR_Couette_cylindrique_SONDE_VITESSE.son\",compo=1,marker=\"-s\")\n",
    "Graph.addSegment(\"Couette/PAR_Couette_cylindrique_SONDE_SOLUTION.son\",compo=0,marker=\"-o\")\n",
    "\n",
    "\n",
    "#Graph.addPlot([0,1])\n",
    "x=np.linspace(0.008,0.011,10)\n",
    "#y=-x*x+10\n",
    "cst=0.005\n",
    "y=0.003/3*(4/np.sqrt((x-0.005)*(x-0.005)+(cst-0.005)*(cst-0.005))-np.sqrt((x-0.005)*(x-0.005)+(cst-0.005)*(cst-0.005))/(0.003*0.003))\n",
    "Graph.add(x,y,label=\"Analytic solution\")\n",
    "Graph.label(\"velocity\",\"y\")\n",
    "\n",
    "# it is possible to add a function Y=f(X,Y) in addSegment and addPoint (can allow to calculate for example an error)\n",
    "\n",
    "#def substraction(x,y):\n",
    "#    return y - np.sin(np.pi*x)\n",
    "\n",
    "#Graph.addSegment(\"fine/diffusion_TEMPERATURE_X.son\",compo=0,label='segment probe',func=substraction)\n"
   ]
  },
  {
   "cell_type": "markdown",
   "id": "3c584dc5",
   "metadata": {},
   "source": [
    "To make a multiplot, you can use:"
   ]
  },
  {
   "cell_type": "code",
   "execution_count": null,
   "id": "cubic-distributor",
   "metadata": {
    "scrolled": false
   },
   "outputs": [
    {
     "data": {
      "image/png": "[encoded data removed]",
      "text/plain": [
       "<Figure size 1728x720 with 2 Axes>"
      ]
     },
     "metadata": {
      "needs_background": "light"
     },
     "output_type": "display_data"
    }
   ],
   "source": [
    "from trustutils import plot\n",
    "import numpy as np \n",
    "\n",
    "# We can arrange plots disposition with indice variable\n",
    "Graph=plot.Graph(title=\"Multiplot\",subtitle=\"coarse probe\",nY=2)\n",
    "Graph.addPoint(\"coarse/diffusion_TEMPERATURE_PROBE.son\")\n",
    "\n",
    "Graph.addPlot(1,\"fine probe\")\n",
    "Graph.addPoint(\"fine/diffusion_TEMPERATURE_PROBE.son\") \n"
   ]
  },
  {
   "cell_type": "markdown",
   "id": "b839bf49",
   "metadata": {},
   "source": [
    "To plot residuals, you can use:"
   ]
  },
  {
   "cell_type": "code",
   "execution_count": null,
   "id": "ace4d82f",
   "metadata": {},
   "outputs": [
    {
     "data": {
      "image/png": "[encoded data removed]",
      "text/plain": [
       "<Figure size 1080x576 with 1 Axes>"
      ]
     },
     "metadata": {
      "needs_background": "light"
     },
     "output_type": "display_data"
    }
   ],
   "source": [
    "# Residuals Plot\n",
    "Graph=plot.Graph(\"Residuals\",size=[15,8])\n",
    "Graph.addResidu(\"fine/diffusion.dt_ev\",label=\"Residuals\")\n",
    "\n",
    "# Method to change the axis scales\n",
    "Graph.scale(yscale='log')"
   ]
  },
  {
   "cell_type": "markdown",
   "id": "916a3474",
   "metadata": {},
   "source": [
    "### Writing in a table"
   ]
  },
  {
   "cell_type": "code",
   "execution_count": null,
   "id": "49196963",
   "metadata": {},
   "outputs": [],
   "source": [
    "from trustutils import plot\n",
    "a = plot.Table([\"mesh number\", r\"time\", r\"$L_{inf}$(error)\"])\n",
    "\n",
    "# If you want to load a file similar to a text file, \n",
    "# you can use the method plot.loadText(\"direction_of_file.txt\")\n",
    "nb_maille = plot.loadText(\"nb_cells\", index_column=1, nb_column=1, dtype=\"str\", transpose=True)\n",
    "\n",
    "data = plot.loadText(\"coarse/diffusion_NORME_LINF.son\", skiprows=0)\n",
    "a.addLigne([[nb_maille[0][2],data[0][-1],data[1][-1]]],\"coarse\")\n",
    "\n",
    "data = plot.loadText(\"fine/diffusion_NORME_LINF.son\")\n",
    "a.addLigne([[nb_maille[0][1],data[0][-1],data[1][-1]]],\"medium\")\n",
    "\n",
    "data = plot.loadText(\"medium/NewData_NORME_LINF.son\")\n",
    "a.addLigne([[nb_maille[0][3],data[0][-1],data[1][-1]]],\"fine\")\n",
    "\n",
    "\n",
    "display(a)"
   ]
  },
  {
   "cell_type": "markdown",
   "id": "large-colony",
   "metadata": {},
   "source": [
    "### Plot a VisIt visu\n",
    "\n",
    "Visitutils is a module whose purpose is to help the users to obtain VisIt plots (2D or 3D results).\n",
    "\n",
    "We will see how to:\n",
    "* Plot a mesh using <code>showMesh</code>\n",
    "* plot a field using <code>showField</code>\n",
    "* Add a probe to check where it is located on the domain using checkProbe\n",
    "* Use the Show class and its options to:\n",
    "    * visualize the plot type options of VisIt (Pseudocolor,Histogram,Mesh,Contour...) \n",
    "    * make multiplots\n",
    "    * adjust the view with <code>rotation3D</code>/<code>up3D</code>/<code>zoom3D</code>\n",
    "    * define slice view with <code>slice2D</code>\n",
    "    * apply standard VisIt command with <code>visitCommand</code>\n",
    "* Used export_lata_base class to export properties and fields from lata files\n",
    "* Implement an interactive widget to fine tuned visualization directly in the notebook. \n",
    "\n",
    "\n",
    "To plot a mesh, you can use:\n"
   ]
  },
  {
   "cell_type": "code",
   "execution_count": null,
   "id": "8cabd9bb",
   "metadata": {},
   "outputs": [],
   "source": [
    "from trustutils import visit\n",
    "visit.showMesh(\"fine/diffusion.lata\",\"dom\")"
   ]
  },
  {
   "cell_type": "markdown",
   "id": "c3cc92c5",
   "metadata": {},
   "source": [
    "To vizualize a field, you can use:"
   ]
  },
  {
   "cell_type": "code",
   "execution_count": null,
   "id": "arbitrary-basket",
   "metadata": {
    "scrolled": false,
    "tags": []
   },
   "outputs": [],
   "source": [
    "from trustutils import visit\n",
    "\n",
    "# Simple command to visualize a field or mesh\n",
    "visit.showField(\"fine/diffusion.lata\",\"Pseudocolor\",\"TEMPERATURE_ELEM_dom\",plotmesh=False)"
   ]
  },
  {
   "cell_type": "markdown",
   "id": "3b0beeab",
   "metadata": {},
   "source": [
    "You can use Show class to apply more options"
   ]
  },
  {
   "cell_type": "code",
   "execution_count": null,
   "id": "dad25bd3",
   "metadata": {},
   "outputs": [],
   "source": [
    "from trustutils import visit\n",
    "\n",
    "fig=visit.Show(\"fine/diffusion.lata\",\"Pseudocolor\",\"ERREUR_T_ELEM_dom\")\n",
    "#fig.addField(\"fine/diffusion.lata\",\"Pseudocolor\",\"\")\n",
    "# to visualize probes\n",
    "fig.checkProbe(\"fine/diffusion_TEMPERATURE_DIAG.son\",sizePoint=10,color=\"black\")\n",
    "\n",
    "# to add a list of viewing options\n",
    "fig.visuOptions(['no_databaseinfo','no_legend'])\n",
    "\n",
    "# To display the visu with the initialization visit.Show()\n",
    "fig.plot()"
   ]
  },
  {
   "cell_type": "markdown",
   "id": "f7b7b285",
   "metadata": {},
   "source": [
    "To make a multiplot, you can use:"
   ]
  },
  {
   "cell_type": "code",
   "execution_count": null,
   "id": "interstate-environment",
   "metadata": {
    "scrolled": false,
    "tags": []
   },
   "outputs": [],
   "source": [
    "from trustutils import visit\n",
    "\n",
    "# Square Multiplot\n",
    "fig=visit.Show(\"fine/diffusion.lata\",\"Pseudocolor\",\"TEMPERATURE_SOM_dom\",plotmesh=False,title=\"multiplot\",nY=2,nX=2)\n",
    "fig.add(\"fine/diffusion.lata\",\"Mesh\",\"dom\",xIndice=0,yIndice=1)\n",
    "fig.add(\"coarse/diffusion.lata\",\"Pseudocolor\",\"TEMPERATURE_SOM_dom\",plotmesh=False,xIndice=1,yIndice=0)\n",
    "fig.add(\"coarse/diffusion.lata\",\"Mesh\",\"dom\",xIndice=1,yIndice=1)\n",
    "fig.plot()"
   ]
  },
  {
   "cell_type": "markdown",
   "id": "5c5e804a",
   "metadata": {},
   "source": [
    "to extract some relevant values from latafiles, you can use <code>export_lata_base</code>"
   ]
  },
  {
   "cell_type": "code",
   "execution_count": null,
   "id": "2ab1dd38",
   "metadata": {},
   "outputs": [],
   "source": [
    "from trustutils import plot, visit \n",
    "\n",
    "# class export_lata_base to export profile or fields from lata files.\n",
    "tmp=visit.export_lata_base(\"fine/diffusion.lata\",\"Pseudocolor\",\"ERREUR_T_ELEM_dom\",\"fine\")\n",
    "tmp.maximun() # register value in Maxfine file\n",
    "tmp=visit.export_lata_base(\"coarse/diffusion.lata\",\"Pseudocolor\",\"ERREUR_T_ELEM_dom\",\"coarse\")\n",
    "tmp.maximun()  \n",
    "\n",
    "MaxFine   =plot.loadText(\"Maxfine\"   )\n",
    "MaxCoarse =plot.loadText(\"Maxcoarse\")\n",
    "\n",
    "columns=[\"Max Error\"]\n",
    "t=plot.Table(columns)      \n",
    "t.addLigne([[MaxFine]],\"fine\")    \n",
    "t.addLigne([[MaxCoarse]],\"coarse\")    \n",
    "display(t)"
   ]
  },
  {
   "cell_type": "code",
   "execution_count": null,
   "id": "f02e1cf4",
   "metadata": {
    "scrolled": false
   },
   "outputs": [],
   "source": [
    "# 3D Case\n",
    "from trustutils import visit\n",
    "\n",
    "# option time to select the frame we want to plot\n",
    "fig=visit.Show(\"./grad_u_transpose_3d.lata\", \"Mesh\", \"dom\", plotmesh=True,nY=2,iteration=0,title=\"Mesh\")\n",
    "# Possibility to vary the perspective with rotation3D, normal3D, up3D, zoom3D and zoom2D\n",
    "fig.rotation3D([45,45,45])\n",
    "fig.visuOptions([\"no_axes\",\"no_bounding_box\",\"no_triad\"])\n",
    "\n",
    "# Zoom on the perpective and min, max value options\n",
    "fig.add(\"./grad_u_transpose_3d.lata\", \"Pseudocolor\", \"PRESSION_PA_ELEM_dom\",plotmesh=True,min=5.,max=6.3,yIndice=1,title=\"Zoom\")\n",
    "fig.normal3D([0.5,0.5,0.5])\n",
    "fig.up3D([0,0,1])\n",
    "fig.zoom3D([0.,0.,1.5])\n",
    "fig.plot()\n"
   ]
  },
  {
   "cell_type": "code",
   "execution_count": null,
   "id": "9baff76c",
   "metadata": {
    "scrolled": false
   },
   "outputs": [],
   "source": [
    "fig=visit.Show(\"./grad_u_transpose_3d.lata\", \"Pseudocolor\", \"PRESSION_PA_ELEM_dom\",iteration=0,plotmesh=True)\n",
    "fig.addField(\"./grad_u_transpose_3d.lata\", \"Vector\", \"VITESSE_SOM_dom\",plotmesh=True)\n",
    "fig.rotation3D([45,45,45])\n",
    "\n",
    "# Available Options\n",
    "fig.blackVector()\n",
    "fig.meshColor(\"red\")\n",
    "\n",
    "fig.plot()\n",
    "\n",
    "fig = visit.Show(\"./grad_u_transpose_3d.lata\", \"Contour\", \"PRESSION_PA_ELEM_dom\",title=\"Isovalues\")\n",
    "fig.rotation3D([45,45,45])\n",
    "fig.meshTrans()\n",
    "# Reproduction of visit commands\n",
    "fig.visitCommand(\"ContourAtts = ContourAttributes()\")\n",
    "fig.visitCommand(\"ContourAtts.lineWidth = 2\")\n",
    "fig.visitCommand(\"ContourAtts.wireframe = 1\")\n",
    "fig.visitCommand(\"ContourAtts.contourNLevels = 15\")\n",
    "fig.visitCommand(\"SetPlotOptions(ContourAtts)\")\n",
    "\n",
    "fig.plot()\n",
    "\n",
    "# It is also possible to use the option empty=True to build on an initially empty base\n",
    "a=visit.Show(empty=True,title=\"slice2D\")\n",
    "a.visitCommand(\"OpenDatabase('grad_u_transpose_3d.lata', 0)\")\n",
    "a.visitCommand(\"DefineVectorExpression('v_proj_obli45', '{VITESSE_X_SOM_dom/2+VITESSE_Z_SOM_dom/2,VITESSE_Y_SOM_dom,VITESSE_X_SOM_dom/2+VITESSE_Z_SOM_dom/2}')\")\n",
    "a.visitCommand(\"AddPlot('Vector', 'v_proj_obli45', 1, 0)\")\n",
    "\n",
    "# Formation of a slice2D\n",
    "a.slice(origin=[0,0,0],normal=[1,1,1.],type_op='slice2d')\n",
    "a.visitCommand(\"VectorAtts = VectorAttributes()\")\n",
    "a.visitCommand(\"VectorAtts.useStride = 1\")\n",
    "a.visitCommand(\"VectorAtts.stride = 1\")\n",
    "a.visitCommand(\"VectorAtts.autoScale = 0\")\n",
    "a.visitCommand(\"VectorAtts.scale = 0.3\")\n",
    "a.visitCommand(\"SetPlotOptions(VectorAtts)\")\n",
    "a.visitCommand(\"DrawPlots()\")\n",
    "a.plot()\n"
   ]
  },
  {
   "cell_type": "markdown",
   "id": "595dad55",
   "metadata": {},
   "source": [
    "In case of difficulty, the cli (Command Line Interface) command history of a visu is saved in the file tmp_visit.py and can be replayed with <code>visit -cli -s tmp_visit.py</code>"
   ]
  },
  {
   "cell_type": "markdown",
   "id": "competent-actor",
   "metadata": {},
   "source": [
    "## Jupyter-Widget Function \n",
    "\n",
    "<code>trustutils.widget</code> is a module that allows you to create an interactive widget in the notebook.\n",
    "\n",
    "This can typically be used to fine-tune a visualization. Once all the parameters are set, we can keep in the final notebook only the corresponding <code>visit.Show</code> command to lighten the form (less heavy than the widget, and more portable)."
   ]
  },
  {
   "cell_type": "code",
   "execution_count": null,
   "id": "cosmetic-vegetable",
   "metadata": {
    "scrolled": false,
    "tags": []
   },
   "outputs": [],
   "source": [
    "# To be used only for the finalization of the form, not for its final version!\n",
    "from trustutils import widget\n",
    "\n",
    "# alpha Version\n",
    "widget.interface(\"./grad_u_transpose_3d.lata\",\"Pseudocolor\",\"PRESSION_PA_ELEM_dom\") "
   ]
  },
  {
   "cell_type": "markdown",
   "id": "74106d93",
   "metadata": {},
   "source": [
    "# include image\n",
    "\n",
    "Two possibilities to include an image. The first one allows to change size and other parameters but it will not be included in the pdf when using Run_fiche -export_pdf. \n",
    "\n",
    "<img src=\"src/fig.png\">\n",
    "\n",
    "To get the image in the pdf report, you can use this command:\n",
    "![](src/fig.png) "
   ]
  },
  {
   "cell_type": "code",
   "execution_count": null,
   "id": "19e6e8b0",
   "metadata": {},
   "outputs": [],
   "source": []
  }
 ],
 "metadata": {
  "kernelspec": {
   "display_name": "Python 3 (ipykernel)",
   "language": "python",
   "name": "python3"
  },
  "language_info": {
   "codemirror_mode": {
    "name": "ipython",
    "version": 3
   },
   "file_extension": ".py",
   "mimetype": "text/x-python",
   "name": "python",
   "nbconvert_exporter": "python",
   "pygments_lexer": "ipython3",
   "version": "3.7.9"
  },
  "toc-autonumbering": true
 },
 "nbformat": 4,
 "nbformat_minor": 5
}
